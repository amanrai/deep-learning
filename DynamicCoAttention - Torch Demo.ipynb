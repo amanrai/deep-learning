{
 "cells": [
  {
   "cell_type": "code",
   "execution_count": 5,
   "metadata": {
    "ExecuteTime": {
     "end_time": "2019-04-06T15:42:39.496057Z",
     "start_time": "2019-04-06T15:42:39.479340Z"
    }
   },
   "outputs": [
    {
     "name": "stdout",
     "output_type": "stream",
     "text": [
      "Queries are of size: torch.Size([2, 27, 50])\n",
      "Documents are of size: torch.Size([2, 400, 50])\n",
      "Alignment Matrix: torch.Size([2, 400, 27])\n",
      "Document 2 Query Attention: torch.Size([2, 400, 27]) \n",
      "Query 2 Document attention: torch.Size([2, 27, 400])\n",
      "Document's context against Query: torch.Size([2, 27, 50])\n",
      "...concatenated with the query itself: torch.Size([2, 27, 100])\n",
      "Final query context vector: torch.Size([2, 400, 100])\n"
     ]
    }
   ],
   "source": [
    "import torch\n",
    "import numpy as np\n",
    "import torch.nn.functional as F\n",
    "\n",
    "query = np.random.uniform(0, 1, (2, 27, 50))\n",
    "doc = np.random.uniform(0, 1, (2, 400, 50))\n",
    "\n",
    "query = torch.Tensor(query)\n",
    "doc = torch.Tensor(doc)\n",
    "\n",
    "print(\"Queries are of size:\", query.size())\n",
    "print(\"Documents are of size:\", doc.size())\n",
    "\n",
    "e = torch.matmul(doc, query.transpose(2, 1))\n",
    "print(\"Alignment Matrix:\", e.size())\n",
    "\n",
    "d2q = F.softmax(e, dim=-1)\n",
    "q2d = F.softmax(e.transpose(2, 1), dim=-1)\n",
    "print(\"Document 2 Query Attention:\", d2q.size(), \"\\nQuery 2 Document attention:\", q2d.size())\n",
    "\n",
    "cq = torch.matmul(q2d, doc)\n",
    "print(\"Document's context against Query:\", cq.size())\n",
    "cd_ = torch.cat([cq, query], dim=-1)\n",
    "print(\"...concatenated with the query itself:\", cd_.size())\n",
    "cd = torch.matmul(d2q, cd_)\n",
    "print(\"Final query context vector:\", cd.size())\n"
   ]
  },
  {
   "cell_type": "code",
   "execution_count": null,
   "metadata": {},
   "outputs": [],
   "source": []
  }
 ],
 "metadata": {
  "kernelspec": {
   "display_name": "Python 3",
   "language": "python",
   "name": "python3"
  },
  "language_info": {
   "codemirror_mode": {
    "name": "ipython",
    "version": 3
   },
   "file_extension": ".py",
   "mimetype": "text/x-python",
   "name": "python",
   "nbconvert_exporter": "python",
   "pygments_lexer": "ipython3",
   "version": "3.5.6"
  }
 },
 "nbformat": 4,
 "nbformat_minor": 2
}
