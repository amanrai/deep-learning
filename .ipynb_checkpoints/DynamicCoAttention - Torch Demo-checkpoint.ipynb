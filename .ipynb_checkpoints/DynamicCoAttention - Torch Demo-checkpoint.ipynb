{
 "cells": [
  {
   "cell_type": "code",
   "execution_count": 1,
   "metadata": {
    "ExecuteTime": {
     "end_time": "2019-04-08T12:28:43.110268Z",
     "start_time": "2019-04-08T12:28:42.620685Z"
    }
   },
   "outputs": [
    {
     "name": "stdout",
     "output_type": "stream",
     "text": [
      "Queries are of size: torch.Size([2, 27, 50])\n",
      "Documents are of size: torch.Size([2, 400, 50])\n",
      "Alignment Matrix: torch.Size([2, 400, 27])\n",
      "Document 2 Query Attention: torch.Size([2, 400, 27]) \n",
      "Query 2 Document attention: torch.Size([2, 27, 400])\n",
      "Document's context against Query: torch.Size([2, 27, 50])\n",
      "...concatenated with the query itself: torch.Size([2, 27, 100])\n",
      "Final query context vector: torch.Size([2, 400, 100])\n"
     ]
    }
   ],
   "source": [
    "import torch\n",
    "import numpy as np\n",
    "import torch.nn.functional as F\n",
    "\n",
    "query = np.random.uniform(0, 1, (2, 27, 50))\n",
    "doc = np.random.uniform(0, 1, (2, 400, 50))\n",
    "\n",
    "query = torch.Tensor(query)\n",
    "doc = torch.Tensor(doc)\n",
    "\n",
    "print(\"Queries are of size:\", query.size())\n",
    "print(\"Documents are of size:\", doc.size())\n",
    "\n",
    "e = torch.matmul(doc, query.transpose(2, 1))\n",
    "print(\"Alignment Matrix:\", e.size())\n",
    "\n",
    "d2q = F.softmax(e, dim=-1)\n",
    "q2d = F.softmax(e.transpose(2, 1), dim=-1)\n",
    "print(\"Document 2 Query Attention:\", d2q.size(), \"\\nQuery 2 Document attention:\", q2d.size())\n",
    "\n",
    "cq = torch.matmul(q2d, doc)\n",
    "print(\"Document's context against Query:\", cq.size())\n",
    "cd_ = torch.cat([cq, query], dim=-1)\n",
    "print(\"...concatenated with the query itself:\", cd_.size())\n",
    "cd = torch.matmul(d2q, cd_)\n",
    "print(\"Final query context vector:\", cd.size())\n"
   ]
  },
  {
   "cell_type": "code",
   "execution_count": 2,
   "metadata": {
    "ExecuteTime": {
     "end_time": "2019-04-08T12:28:43.975353Z",
     "start_time": "2019-04-08T12:28:43.947995Z"
    }
   },
   "outputs": [
    {
     "data": {
      "text/plain": [
       "tensor([[[0.0244, 0.0189, 0.0588,  ..., 0.0386, 0.0118, 0.0432],\n",
       "         [0.0169, 0.0089, 0.0823,  ..., 0.0228, 0.0152, 0.0837],\n",
       "         [0.0524, 0.0074, 0.0414,  ..., 0.0226, 0.0302, 0.0189],\n",
       "         ...,\n",
       "         [0.0215, 0.0082, 0.0953,  ..., 0.0272, 0.0087, 0.0407],\n",
       "         [0.0214, 0.0137, 0.0215,  ..., 0.0281, 0.0049, 0.0314],\n",
       "         [0.0220, 0.0132, 0.0356,  ..., 0.0344, 0.0056, 0.0612]],\n",
       "\n",
       "        [[0.0030, 0.0450, 0.0390,  ..., 0.0443, 0.0231, 0.0248],\n",
       "         [0.0091, 0.0212, 0.0273,  ..., 0.0250, 0.0221, 0.0214],\n",
       "         [0.0007, 0.0346, 0.0404,  ..., 0.0470, 0.0251, 0.0466],\n",
       "         ...,\n",
       "         [0.0020, 0.0436, 0.0397,  ..., 0.0090, 0.0163, 0.0576],\n",
       "         [0.0034, 0.0214, 0.0473,  ..., 0.0412, 0.0099, 0.0344],\n",
       "         [0.0020, 0.0186, 0.0721,  ..., 0.0165, 0.0351, 0.0684]]])"
      ]
     },
     "execution_count": 2,
     "metadata": {},
     "output_type": "execute_result"
    }
   ],
   "source": [
    "d2q"
   ]
  },
  {
   "cell_type": "code",
   "execution_count": 3,
   "metadata": {
    "ExecuteTime": {
     "end_time": "2019-04-08T12:29:17.650090Z",
     "start_time": "2019-04-08T12:29:17.586909Z"
    }
   },
   "outputs": [
    {
     "ename": "ValueError",
     "evalue": "too many values to unpack (expected 2)",
     "output_type": "error",
     "traceback": [
      "\u001b[0;31m---------------------------------------------------------------------------\u001b[0m",
      "\u001b[0;31mValueError\u001b[0m                                Traceback (most recent call last)",
      "\u001b[0;32m<ipython-input-3-7a4de7b9e652>\u001b[0m in \u001b[0;36m<module>\u001b[0;34m\u001b[0m\n\u001b[0;32m----> 1\u001b[0;31m \u001b[0md2a\u001b[0m\u001b[0;34m,\u001b[0m \u001b[0md2b\u001b[0m \u001b[0;34m=\u001b[0m \u001b[0md2q\u001b[0m\u001b[0;34m.\u001b[0m\u001b[0msplit\u001b[0m\u001b[0;34m(\u001b[0m\u001b[0;36m1\u001b[0m\u001b[0;34m,\u001b[0m \u001b[0mdim\u001b[0m\u001b[0;34m=\u001b[0m\u001b[0;34m-\u001b[0m\u001b[0;36m1\u001b[0m\u001b[0;34m)\u001b[0m\u001b[0;34m\u001b[0m\u001b[0m\n\u001b[0m",
      "\u001b[0;31mValueError\u001b[0m: too many values to unpack (expected 2)"
     ]
    }
   ],
   "source": [
    "x = torch.Tensor(np.random.uniform(0, 1,(5, 10, 15)))"
   ]
  },
  {
   "cell_type": "code",
   "execution_count": null,
   "metadata": {},
   "outputs": [],
   "source": []
  }
 ],
 "metadata": {
  "kernelspec": {
   "display_name": "Python 3",
   "language": "python",
   "name": "python3"
  },
  "language_info": {
   "codemirror_mode": {
    "name": "ipython",
    "version": 3
   },
   "file_extension": ".py",
   "mimetype": "text/x-python",
   "name": "python",
   "nbconvert_exporter": "python",
   "pygments_lexer": "ipython3",
   "version": "3.5.6"
  }
 },
 "nbformat": 4,
 "nbformat_minor": 2
}
