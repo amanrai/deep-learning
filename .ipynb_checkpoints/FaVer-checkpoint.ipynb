{
 "cells": [
  {
   "cell_type": "code",
   "execution_count": 1,
   "metadata": {},
   "outputs": [],
   "source": [
    "import pickle\n",
    "import numpy as np\n",
    "from pytorch_pretrained_bert import BertTokenizer\n",
    "import torch\n",
    "import json"
   ]
  },
  {
   "cell_type": "code",
   "execution_count": 2,
   "metadata": {},
   "outputs": [],
   "source": [
    "processed_data = pickle.load(open(\"../fever_processed.pickle\", \"rb\"))\n",
    "testing_data = np.asarray(processed_data[-len(processed_data)//10:])\n",
    "training_data = np.asarray(processed_data[:-len(processed_data)//10])"
   ]
  },
  {
   "cell_type": "code",
   "execution_count": 3,
   "metadata": {},
   "outputs": [],
   "source": [
    "tokenizer = BertTokenizer.from_pretrained('bert-base-uncased')"
   ]
  },
  {
   "cell_type": "code",
   "execution_count": 4,
   "metadata": {
    "scrolled": false
   },
   "outputs": [],
   "source": [
    "def getSamples(data):\n",
    "    classes = [line[\"label\"] for line in data]\n",
    "    positive_samples = np.asarray(classes) ==\"SUPPORTS\"\n",
    "    positive_samples = np.asarray([i for i in range(len(positive_samples)) if positive_samples[i] == True])\n",
    "    negative_samples = np.asarray(classes) ==\"REFUTES\"\n",
    "    negative_samples = np.asarray([i for i in range(len(negative_samples)) if negative_samples[i] == True])\n",
    "    print(len(positive_samples), len(negative_samples))\n",
    "    return positive_samples, negative_samples"
   ]
  },
  {
   "cell_type": "code",
   "execution_count": 5,
   "metadata": {},
   "outputs": [
    {
     "name": "stdout",
     "output_type": "stream",
     "text": [
      "71321 26572\n",
      "7956 2922\n"
     ]
    }
   ],
   "source": [
    "tr_p, tr_n = getSamples(training_data)\n",
    "te_p, te_n = getSamples(testing_data)"
   ]
  },
  {
   "cell_type": "code",
   "execution_count": 6,
   "metadata": {},
   "outputs": [],
   "source": [
    "max_length = 64"
   ]
  },
  {
   "cell_type": "code",
   "execution_count": 7,
   "metadata": {},
   "outputs": [
    {
     "name": "stdout",
     "output_type": "stream",
     "text": [
      "torch.Size([5, 64]) torch.Size([5, 64]) torch.Size([5, 64]) torch.Size([5])\n"
     ]
    }
   ],
   "source": [
    "def getBatch(bs = 64, validation = False):\n",
    "    source = training_data\n",
    "    positive_samples = tr_p\n",
    "    negative_samples = tr_n\n",
    "    \n",
    "    if (validation):\n",
    "        source = testing_data\n",
    "        positive_samples = te_p\n",
    "        negative_samples = te_n\n",
    "    \n",
    "    n_samples = bs // 2\n",
    "    p_samples = bs - n_samples\n",
    "    positives = np.random.randint(0, len(positive_samples), (p_samples,))\n",
    "    negatives = np.random.randint(0, len(negative_samples), (n_samples,))\n",
    "    positives = positive_samples[positives]\n",
    "    negatives = negative_samples[negatives]\n",
    "    \n",
    "    all_indices = []\n",
    "    all_indices.extend(positives)\n",
    "    all_indices.extend(negatives)\n",
    "    \n",
    "    _t = []\n",
    "    _s = []\n",
    "    _a = []\n",
    "    _c = []\n",
    "    \n",
    "    for index in all_indices:\n",
    "        _dp = [\"[CLS]\"]\n",
    "        _dp.extend(source[index][\"processed\"][\"claim\"])\n",
    "        _dp.append(\"[SEP]\")\n",
    "        for evid in source[index][\"processed\"][\"evidentiary\"]:\n",
    "            _dp.extend(evid)\n",
    "        _dp.append(\"[SEP]\")\n",
    "        \n",
    "        while (len(_dp) < max_length):\n",
    "            _dp.append(\"[PAD]\")\n",
    "        _dp = _dp[:max_length]\n",
    "        _dp = np.asarray(tokenizer.convert_tokens_to_ids(_dp))\n",
    "        segments = np.ones((max_length,))\n",
    "        segments[:len(source[index][\"processed\"][\"claim\"]) + 2] = 0\n",
    "        _class = 1 if source[index][\"label\"] == \"SUPPORTS\" else 0\n",
    "        att_mask = [1 if _dp[index] >0 else 0 for index in range(len(_dp))]\n",
    "        _t.append(_dp)\n",
    "        _s.append(segments)\n",
    "        _a.append(att_mask)\n",
    "        _c.append(_class)\n",
    "    \n",
    "    text = torch.LongTensor(_t).cuda()\n",
    "    segments = torch.LongTensor(_s).cuda()\n",
    "    att = torch.LongTensor(_a).cuda()\n",
    "    classes = torch.LongTensor(_c).cuda()\n",
    "    \n",
    "    return text, segments, att, classes\n",
    "    #np.random.shuffle(_data)\n",
    "t, s, a, c = getBatch(bs = 5, validation = False)\n",
    "print(t.size(), s.size(), a.size(), c.size())"
   ]
  },
  {
   "cell_type": "code",
   "execution_count": 8,
   "metadata": {},
   "outputs": [],
   "source": [
    "import torch\n",
    "import torch.nn.functional as F\n",
    "from pytorch_pretrained_bert import BertModel\n",
    "from QA_Attentions import *"
   ]
  },
  {
   "cell_type": "code",
   "execution_count": 15,
   "metadata": {},
   "outputs": [],
   "source": [
    "class FaVer(torch.nn.Module):\n",
    "    def __init__(self, bert_model = \"bert-base-uncased\"):\n",
    "        super(FaVer, self).__init__()\n",
    "        self.bert_model = bert_model\n",
    "        self.bert_width = 768\n",
    "        if (\"-large-\" in self.bert_model):\n",
    "            self.bert_width = 1024\n",
    "        self.bert = BertModel.from_pretrained(bert_model)\n",
    "        #self.wd = torch.nn.Parameter(torch.FloatTensor(np.random.uniform(0, 1, (3*self.bert_width,))))\n",
    "        #self.innerAttQuery = torch.nn.Parameter(torch.FloatTensor(np.random.uniform(0, 1, (self.bert_width, 512))))\n",
    "        #self.innerAttDoc = torch.nn.Parameter(torch.FloatTensor(np.random.uniform(0, 1, (self.bert_width*4, 512))))\n",
    "        #self.out = torch.nn.Linear((self.bert_width*5),1)\n",
    "        #self.dropout = torch.nn.Dropout(0.1)\n",
    "    \n",
    "    def forward(self, t, s, a):\n",
    "        text = self.bert(t,\n",
    "                        token_type_ids=s, \n",
    "                        attention_mask=a, \n",
    "                        output_all_encoded_layers=False)\n",
    "        cl_ = s == 0\n",
    "        print(cl_)\n",
    "        ev_ = s == 1\n",
    "        claims = text * cl_\n",
    "        evidences = text * ev_\n",
    "        evidences = evidences * a\n",
    "        \"\"\"\n",
    "        if (train_fp16):\n",
    "            queries = self.dropout(queries * qa.unsqueeze(-1).half().cuda())\n",
    "            documents = self.dropout(documents * da.unsqueeze(-1).half().cuda())\n",
    "        else:\n",
    "            queries = self.dropout(queries * qa.unsqueeze(-1).float())\n",
    "            documents = self.dropout(documents * da.unsqueeze(-1).float())\n",
    "        \n",
    "        bdaf, ad2q, aq2d = biDAF(documents, queries, self.wd)\n",
    "        q = InnerAttention(queries, self.innerAttQuery)\n",
    "        d = InnerAttention(bdaf, self.innerAttDoc)\n",
    "        _f = torch.cat([q,d],dim=-1)\n",
    "        out_ = self.out(_f)\n",
    "        return out_\n",
    "        \"\"\""
   ]
  },
  {
   "cell_type": "code",
   "execution_count": 16,
   "metadata": {},
   "outputs": [
    {
     "ename": "TypeError",
     "evalue": "mul(): argument 'other' (position 1) must be Tensor, not tuple",
     "output_type": "error",
     "traceback": [
      "\u001b[0;31m---------------------------------------------------------------------------\u001b[0m",
      "\u001b[0;31mTypeError\u001b[0m                                 Traceback (most recent call last)",
      "\u001b[0;32m<ipython-input-16-0e2614df0349>\u001b[0m in \u001b[0;36m<module>\u001b[0;34m\u001b[0m\n\u001b[1;32m      1\u001b[0m \u001b[0mnetwork\u001b[0m \u001b[0;34m=\u001b[0m \u001b[0mFaVer\u001b[0m\u001b[0;34m(\u001b[0m\u001b[0;34m)\u001b[0m\u001b[0;34m.\u001b[0m\u001b[0mcuda\u001b[0m\u001b[0;34m(\u001b[0m\u001b[0;34m)\u001b[0m\u001b[0;34m\u001b[0m\u001b[0;34m\u001b[0m\u001b[0m\n\u001b[0;32m----> 2\u001b[0;31m \u001b[0mnetwork\u001b[0m\u001b[0;34m.\u001b[0m\u001b[0mforward\u001b[0m\u001b[0;34m(\u001b[0m\u001b[0mt\u001b[0m\u001b[0;34m,\u001b[0m \u001b[0ms\u001b[0m\u001b[0;34m,\u001b[0m \u001b[0ma\u001b[0m\u001b[0;34m)\u001b[0m\u001b[0;34m\u001b[0m\u001b[0;34m\u001b[0m\u001b[0m\n\u001b[0m",
      "\u001b[0;32m<ipython-input-15-f6c8bd361f38>\u001b[0m in \u001b[0;36mforward\u001b[0;34m(self, t, s, a)\u001b[0m\n\u001b[1;32m     20\u001b[0m         \u001b[0mcl_\u001b[0m \u001b[0;34m=\u001b[0m \u001b[0ms\u001b[0m \u001b[0;34m==\u001b[0m \u001b[0;36m0\u001b[0m\u001b[0;34m\u001b[0m\u001b[0;34m\u001b[0m\u001b[0m\n\u001b[1;32m     21\u001b[0m         \u001b[0mev_\u001b[0m \u001b[0;34m=\u001b[0m \u001b[0ms\u001b[0m \u001b[0;34m==\u001b[0m \u001b[0;36m1\u001b[0m\u001b[0;34m\u001b[0m\u001b[0;34m\u001b[0m\u001b[0m\n\u001b[0;32m---> 22\u001b[0;31m         \u001b[0mclaims\u001b[0m \u001b[0;34m=\u001b[0m \u001b[0mtext\u001b[0m \u001b[0;34m*\u001b[0m \u001b[0mcl_\u001b[0m\u001b[0;34m\u001b[0m\u001b[0;34m\u001b[0m\u001b[0m\n\u001b[0m\u001b[1;32m     23\u001b[0m         \u001b[0mevidences\u001b[0m \u001b[0;34m=\u001b[0m \u001b[0mtext\u001b[0m \u001b[0;34m*\u001b[0m \u001b[0mev_\u001b[0m\u001b[0;34m\u001b[0m\u001b[0;34m\u001b[0m\u001b[0m\n\u001b[1;32m     24\u001b[0m         \u001b[0mevidences\u001b[0m \u001b[0;34m=\u001b[0m \u001b[0mevidences\u001b[0m \u001b[0;34m*\u001b[0m \u001b[0ma\u001b[0m\u001b[0;34m\u001b[0m\u001b[0;34m\u001b[0m\u001b[0m\n",
      "\u001b[0;31mTypeError\u001b[0m: mul(): argument 'other' (position 1) must be Tensor, not tuple"
     ]
    }
   ],
   "source": [
    "network = FaVer().cuda()\n",
    "network.forward(t, s, a)"
   ]
  },
  {
   "cell_type": "code",
   "execution_count": null,
   "metadata": {},
   "outputs": [],
   "source": []
  }
 ],
 "metadata": {
  "kernelspec": {
   "display_name": "Python 3",
   "language": "python",
   "name": "python3"
  },
  "language_info": {
   "codemirror_mode": {
    "name": "ipython",
    "version": 3
   },
   "file_extension": ".py",
   "mimetype": "text/x-python",
   "name": "python",
   "nbconvert_exporter": "python",
   "pygments_lexer": "ipython3",
   "version": "3.7.3"
  }
 },
 "nbformat": 4,
 "nbformat_minor": 2
}
