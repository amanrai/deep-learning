{
 "cells": [
  {
   "cell_type": "code",
   "execution_count": null,
   "metadata": {
    "ExecuteTime": {
     "end_time": "2019-04-13T11:09:58.099436Z",
     "start_time": "2019-04-13T11:09:56.549999Z"
    }
   },
   "outputs": [],
   "source": [
    "from pytorch_pretrained_bert import BertTokenizer\n",
    "from nltk.tokenize import sent_tokenize\n",
    "from os import listdir\n",
    "wiki_data_path = \"../../../Data/Fever/wiki-pages/\"\n",
    "training_data = \"../../../Data/Fever/train.jsonl\"\n",
    "tokenizer = BertTokenizer.from_pretrained('bert-base-uncased')"
   ]
  },
  {
   "cell_type": "code",
   "execution_count": null,
   "metadata": {
    "ExecuteTime": {
     "end_time": "2019-04-13T11:09:59.882065Z",
     "start_time": "2019-04-13T11:09:58.101058Z"
    }
   },
   "outputs": [],
   "source": [
    "import json\n",
    "data = []\n",
    "with open(training_data, \"r\") as f:\n",
    "    lines = f.read().split(\"\\n\")\n",
    "    for line in lines:\n",
    "        data.append(json.loads(line))"
   ]
  },
  {
   "cell_type": "code",
   "execution_count": null,
   "metadata": {
    "ExecuteTime": {
     "end_time": "2019-04-13T11:11:00.605027Z",
     "start_time": "2019-04-13T11:09:59.884206Z"
    }
   },
   "outputs": [],
   "source": [
    "base_data = {}\n",
    "ignored_lines = []\n",
    "base_files = listdir(wiki_data_path)\n",
    "for file in base_files:\n",
    "    with open(wiki_data_path + file, \"r\") as f:\n",
    "        lines = f.read().split(\"\\n\")\n",
    "        for line in lines:\n",
    "            try:\n",
    "                _js = json.loads(line)\n",
    "                base_data[_js[\"id\"]] = _js\n",
    "            except:\n",
    "                ignored_lines.append(line)"
   ]
  },
  {
   "cell_type": "code",
   "execution_count": null,
   "metadata": {
    "ExecuteTime": {
     "end_time": "2019-04-13T11:23:06.210658Z",
     "start_time": "2019-04-13T11:11:11.180524Z"
    },
    "scrolled": true
   },
   "outputs": [],
   "source": [
    "import re\n",
    "from nltk.tokenize import sent_tokenize\n",
    "\n",
    "def fix_text(text):\n",
    "    text = text.replace(\" -LRB- \", \" (\")\n",
    "    text = text.replace(\" -RRB- \", \") \")\n",
    "    text = text.replace(\" , \", \", \")\n",
    "    text = text.replace(\" . \", \". \")\n",
    "    return text\n",
    "\n",
    "processed_data = []\n",
    "\n",
    "for line in data:\n",
    "    try:\n",
    "        claim = line[\"claim\"]\n",
    "        if line[\"verifiable\"] == \"VERIFIABLE\":\n",
    "            _all_evidence = {}\n",
    "            for evidence in line[\"evidence\"]:\n",
    "                for evid in evidence:\n",
    "                    title = evid[2]\n",
    "                    if (title is not None):\n",
    "                        if (title not in _all_evidence):\n",
    "                            _all_evidence[title] = []\n",
    "                        if (evid[3] not in _all_evidence[title]):\n",
    "                            _all_evidence[title].append(evid[3])\n",
    "            #print(_all_evidence)\n",
    "            line[\"evidences\"] = _all_evidence\n",
    "            claim = tokenizer.tokenize(claim)\n",
    "            evidentiary = []\n",
    "            non_evidentiary = []\n",
    "            for source in _all_evidence:\n",
    "                parts = fix_text(base_data[source][\"lines\"]).split(\"\\n\")\n",
    "                for i in range(len(parts)):\n",
    "                    part = parts[i]\n",
    "                    passage_parts = part.split(\"\\t\")\n",
    "                    if (len(passage_parts[1]) > 0):\n",
    "                        if (i in _all_evidence[source]):\n",
    "                            evidentiary.append(tokenizer.tokenize(passage_parts[1]))\n",
    "                        else:\n",
    "                            non_evidentiary.append(tokenizer.tokenize(passage_parts[1]))\n",
    "            line[\"processed\"] = {\n",
    "                \"claim\":claim, \n",
    "                \"evidentiary\":evidentiary,\n",
    "                \"non_evidentiary\":non_evidentiary\n",
    "            }\n",
    "            processed_data.append(line)\n",
    "    except:\n",
    "        print(\"Ignoring line:\", line)\n",
    "        "
   ]
  },
  {
   "cell_type": "code",
   "execution_count": null,
   "metadata": {
    "ExecuteTime": {
     "end_time": "2019-04-13T11:23:34.015047Z",
     "start_time": "2019-04-13T11:23:34.010561Z"
    }
   },
   "outputs": [],
   "source": [
    "print(len(processed_data))"
   ]
  },
  {
   "cell_type": "code",
   "execution_count": null,
   "metadata": {
    "ExecuteTime": {
     "end_time": "2019-04-13T11:24:30.909490Z",
     "start_time": "2019-04-13T11:24:18.064027Z"
    }
   },
   "outputs": [],
   "source": [
    "import pickle\n",
    "pickle.dump(processed_data, open(\"../fever_processed.pickle\", \"wb\"))"
   ]
  },
  {
   "cell_type": "code",
   "execution_count": null,
   "metadata": {},
   "outputs": [],
   "source": []
  }
 ],
 "metadata": {
  "kernelspec": {
   "display_name": "Python 3",
   "language": "python",
   "name": "python3"
  },
  "language_info": {
   "codemirror_mode": {
    "name": "ipython",
    "version": 3
   },
   "file_extension": ".py",
   "mimetype": "text/x-python",
   "name": "python",
   "nbconvert_exporter": "python",
   "pygments_lexer": "ipython3",
   "version": "3.5.6"
  }
 },
 "nbformat": 4,
 "nbformat_minor": 2
}
