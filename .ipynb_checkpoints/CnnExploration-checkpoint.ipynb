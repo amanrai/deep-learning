{
 "cells": [
  {
   "cell_type": "code",
   "execution_count": 10,
   "metadata": {
    "ExecuteTime": {
     "end_time": "2019-04-23T12:41:03.239987Z",
     "start_time": "2019-04-23T12:41:03.236670Z"
    }
   },
   "outputs": [],
   "source": [
    "data_path = \"../../../Data/DMQA/cnn_stories/cnn/stories/\""
   ]
  },
  {
   "cell_type": "code",
   "execution_count": 121,
   "metadata": {
    "ExecuteTime": {
     "end_time": "2019-04-23T14:35:16.298112Z",
     "start_time": "2019-04-23T14:31:53.762309Z"
    }
   },
   "outputs": [
    {
     "name": "stdout",
     "output_type": "stream",
     "text": [
      "92579\n"
     ]
    }
   ],
   "source": [
    "from os import listdir\n",
    "files = listdir(data_path)\n",
    "print(len(files))\n",
    "\n",
    "_all_text = []\n",
    "for file in files:\n",
    "    with open(data_path + file, \"r\") as f:\n",
    "        _all_text.append(f.read())"
   ]
  },
  {
   "cell_type": "code",
   "execution_count": 135,
   "metadata": {
    "ExecuteTime": {
     "end_time": "2019-04-23T14:48:23.315514Z",
     "start_time": "2019-04-23T14:48:22.058638Z"
    }
   },
   "outputs": [
    {
     "name": "stdout",
     "output_type": "stream",
     "text": [
      "Better speed can be achieved with apex installed from https://www.github.com/nvidia/apex.\n"
     ]
    }
   ],
   "source": [
    "from pytorch_pretrained_bert import BertTokenizer\n",
    "import numpy as np\n",
    "tokenizer = BertTokenizer.from_pretrained('bert-base-uncased')"
   ]
  },
  {
   "cell_type": "code",
   "execution_count": 140,
   "metadata": {
    "ExecuteTime": {
     "end_time": "2019-04-23T14:51:39.805578Z",
     "start_time": "2019-04-23T14:51:39.800871Z"
    }
   },
   "outputs": [],
   "source": [
    "stride = 50\n",
    "max_len = 450\n",
    "max_tokenized_len = 511"
   ]
  },
  {
   "cell_type": "code",
   "execution_count": 144,
   "metadata": {
    "ExecuteTime": {
     "end_time": "2019-04-23T15:07:53.093887Z",
     "start_time": "2019-04-23T14:56:00.141427Z"
    },
    "scrolled": false
   },
   "outputs": [],
   "source": [
    "indices = np.random.randint(0, len(files), (100,))\n",
    "lens = []\n",
    "count = 0\n",
    "dps = []\n",
    "for text in _all_text:\n",
    "    split = text.index(\"@highlight\")\n",
    "    story = text[:split]\n",
    "    summary = text[split:]\n",
    "    summary = summary.replace(\"@highlight\\n\", \"\")\n",
    "    summary = summary.replace(\"\\n+\", \"\\n\")\n",
    "    lines = np.asarray(summary.split(\"\\n\"))\n",
    "    valid_lines = [len(line) > 5 for line in lines]\n",
    "    summary = lines[valid_lines]\n",
    "    lines = np.asarray(story.split(\"\\n\"))\n",
    "    valid_lines = [len(line) > 5 for line in lines]\n",
    "    story = lines[valid_lines]\n",
    "    story = \" \".join(story)\n",
    "    summary = \". \".join(summary) + \".\"\n",
    "    summary = summary.replace(\"NEW:\", \"\")\n",
    "    story = \" \".join(story.split()[:max_len])\n",
    "\n",
    "    _sto_tokens = tokenizer.tokenize(story)\n",
    "    _sto_tokens = _sto_tokens[:max_tokenized_len]\n",
    "    _sum_tokens = tokenizer.tokenize(summary)\n",
    "    \n",
    "    _story = tokenizer.convert_tokens_to_ids(_sto_tokens)\n",
    "    _summary = tokenizer.convert_tokens_to_ids(_sum_tokens)\n",
    "    dp = {\n",
    "        \"story\":story,\n",
    "        \"summary\":summary, \n",
    "        \"story_tokens\":_story, \n",
    "        \"summary_tokens\":_summary\n",
    "    }\n",
    "    dps.append(dp)"
   ]
  },
  {
   "cell_type": "code",
   "execution_count": 145,
   "metadata": {
    "ExecuteTime": {
     "end_time": "2019-04-23T15:09:17.941500Z",
     "start_time": "2019-04-23T15:09:16.649707Z"
    }
   },
   "outputs": [],
   "source": [
    "import pickle\n",
    "pickle.dump(dps, open(\"../../../Data/DMQA/cnn_tokenized.pickle\", \"wb\"))"
   ]
  },
  {
   "cell_type": "code",
   "execution_count": null,
   "metadata": {},
   "outputs": [],
   "source": []
  }
 ],
 "metadata": {
  "kernelspec": {
   "display_name": "Python 3",
   "language": "python",
   "name": "python3"
  },
  "language_info": {
   "codemirror_mode": {
    "name": "ipython",
    "version": 3
   },
   "file_extension": ".py",
   "mimetype": "text/x-python",
   "name": "python",
   "nbconvert_exporter": "python",
   "pygments_lexer": "ipython3",
   "version": "3.5.6"
  }
 },
 "nbformat": 4,
 "nbformat_minor": 2
}
