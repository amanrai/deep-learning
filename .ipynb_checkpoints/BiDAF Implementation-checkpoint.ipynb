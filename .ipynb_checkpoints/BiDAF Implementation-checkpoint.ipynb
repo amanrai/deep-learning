{
 "cells": [
  {
   "cell_type": "code",
   "execution_count": 35,
   "metadata": {
    "ExecuteTime": {
     "end_time": "2019-04-17T05:50:33.163608Z",
     "start_time": "2019-04-17T05:50:33.159400Z"
    }
   },
   "outputs": [],
   "source": [
    "import torch\n",
    "import numpy as np\n",
    "import torch.nn.functional as F"
   ]
  },
  {
   "cell_type": "code",
   "execution_count": 56,
   "metadata": {
    "ExecuteTime": {
     "end_time": "2019-04-17T06:20:37.837753Z",
     "start_time": "2019-04-17T06:20:37.830689Z"
    }
   },
   "outputs": [],
   "source": [
    "_docs = torch.Tensor(np.random.uniform(0,1, (20, 10, 11)))\n",
    "_queries = torch.Tensor(np.random.uniform(0,1, (20, 5, 11)))\n",
    "_wd = torch.Tensor(np.random.uniform(0, 1, (33,)))"
   ]
  },
  {
   "cell_type": "code",
   "execution_count": 59,
   "metadata": {
    "ExecuteTime": {
     "end_time": "2019-04-17T06:20:54.190522Z",
     "start_time": "2019-04-17T06:20:54.173841Z"
    }
   },
   "outputs": [],
   "source": [
    "def biDAF(docs, queries, wd):\n",
    "    \"\"\"\n",
    "    :param docs: (b, dt, dim)\n",
    "    :param queries: (b, qt, dim)\n",
    "    :param wd: (dim*3,)\n",
    "    \n",
    "    :output v: (b, dt, 4*dim)\n",
    "    :output att_d2q: (b, dt, qt)\n",
    "    :output att_q2d: (b, qt, dt)\n",
    "    \"\"\"\n",
    "    dq = []\n",
    "    for i in range(queries.size()[1]):\n",
    "        qi = queries[:,i,:].unsqueeze(1)\n",
    "        qi = qi.expand(-1,d.size()[1],-1)\n",
    "        dqi = torch.cat([docs, qi, docs*qi], dim=-1)\n",
    "        dq.append(dqi)\n",
    "        #print(dqi.size())\n",
    "    dq = torch.stack(dq) #(qt, b, dt, 3*dim)\n",
    "    dq = dq.transpose(0, 1) #(b, qt, dt, 3*dim)\n",
    "    dq = dq.transpose(1,2) #(b, dt, qt, 3*dim)\n",
    "    dq = torch.matmul(dq, wd) #(b, dt, qt) \n",
    "    att_d2q = F.softmax(dq, dim=-1) #along the rows\n",
    "    att_q2d = F.softmax(dq, dim=1) #along the columns\n",
    "    ad2q = torch.matmul(att_d2q, queries) #(b, dt, dim)\n",
    "    aq2d = torch.matmul(att_d2q, att_q2d.transpose(-2,-1)) #(b, dt, dt)\n",
    "    aq2d = torch.matmul(aq2d,docs) #(b, dt, dim)\n",
    "    v = torch.cat([docs, ad2q, ad2q*docs, aq2d*docs], dim=-1) #(b, dt, 4*dim)\n",
    "    return v, att_d2q, att_q2d.transpose(-2,-1)\n",
    "\n",
    "v, d2q, q2d = biDAF(_docs, _queries, _wd)"
   ]
  },
  {
   "cell_type": "code",
   "execution_count": 60,
   "metadata": {
    "ExecuteTime": {
     "end_time": "2019-04-17T06:20:54.741977Z",
     "start_time": "2019-04-17T06:20:54.739023Z"
    }
   },
   "outputs": [
    {
     "data": {
      "text/plain": [
       "torch.Size([20, 10, 44])"
      ]
     },
     "execution_count": 60,
     "metadata": {},
     "output_type": "execute_result"
    }
   ],
   "source": [
    "v.size()"
   ]
  },
  {
   "cell_type": "code",
   "execution_count": null,
   "metadata": {},
   "outputs": [],
   "source": []
  }
 ],
 "metadata": {
  "kernelspec": {
   "display_name": "Python 3",
   "language": "python",
   "name": "python3"
  },
  "language_info": {
   "codemirror_mode": {
    "name": "ipython",
    "version": 3
   },
   "file_extension": ".py",
   "mimetype": "text/x-python",
   "name": "python",
   "nbconvert_exporter": "python",
   "pygments_lexer": "ipython3",
   "version": "3.5.6"
  }
 },
 "nbformat": 4,
 "nbformat_minor": 2
}
