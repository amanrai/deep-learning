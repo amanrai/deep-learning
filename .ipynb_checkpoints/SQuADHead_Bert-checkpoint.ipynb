{
 "cells": [
  {
   "cell_type": "code",
   "execution_count": 1,
   "metadata": {
    "ExecuteTime": {
     "end_time": "2019-04-06T14:06:59.230155Z",
     "start_time": "2019-04-06T14:06:58.910402Z"
    }
   },
   "outputs": [
    {
     "name": "stdout",
     "output_type": "stream",
     "text": [
      "Better speed can be achieved with apex installed from https://www.github.com/nvidia/apex.\n"
     ]
    }
   ],
   "source": [
    "import pickle\n",
    "import numpy as np\n",
    "import torch\n",
    "import torch.nn.functional as F\n",
    "from pytorch_pretrained_bert import BertTokenizer, BertModel, BertForMaskedLM"
   ]
  },
  {
   "cell_type": "code",
   "execution_count": null,
   "metadata": {},
   "outputs": [],
   "source": [
    "def getBERT(inputs, bert, extract_layers=4):\n",
    "    seq_tokens = torch.ones(inputs.size(), dtype=torch.long).cuda()\n",
    "    outputs_, _ = bert(inputs, seq_tokens)\n",
    "    outputs_ = torch.cat(outputs_[-extract_layers:], dim=-1)\n",
    "    return outputs_"
   ]
  },
  {
   "cell_type": "code",
   "execution_count": null,
   "metadata": {},
   "outputs": [],
   "source": [
    "def DynamicCoAttention(documents, queries, queries_intermediate_layer):\n",
    "    align = torch.matmul(documents, queries_intermediate_layer(queries))\n",
    "    d2q = F.softmax(align, dim=-1)\n",
    "    q2d = F.softmax(align.transpose(2, 1), dim=-1)\n",
    "    cq = torch.matmul(q2d, documents)\n",
    "    cd_ = torch.cat([cq, queries], dim=-1)\n",
    "    cd = torch.matmul(d2q, cd_)\n",
    "    return cd, (d2q, q2d)"
   ]
  },
  {
   "cell_type": "code",
   "execution_count": null,
   "metadata": {},
   "outputs": [],
   "source": [
    "def ModellingLayer(context__vector, lstm):\n",
    "    return lstm"
   ]
  },
  {
   "cell_type": "code",
   "execution_count": null,
   "metadata": {},
   "outputs": [],
   "source": [
    "class SQuADHead(torch.nn.Module):\n",
    "    def __init__(self, \n",
    "                num_bert_layers=1,\n",
    "                backprop_thru_bert=False,\n",
    "                internal_dim = 256                \n",
    "                ):\n",
    "        super(SQuADHead, self).__init__()\n",
    "        self.num_bert_layers = num_bert_layers\n",
    "        self.bert = BertModel.from_pretrained('bert-base-uncased')\n",
    "        if (not backprop_thru_bert):\n",
    "            self.bert.embeddings.requires_grad = False\n",
    "        self.queries_intermediate_layer = torch.nn.Linear()\n",
    "    \n",
    "    def forward(self, documents, queries):\n",
    "        docs_ = getBERT(documents, self.bert, extract_layers=1)\n",
    "        queries_ = getBERT(queries, self.bert, extract_layers=1)\n",
    "        context_vector, attentions = DynamicCoAttention(docs_, queries_)"
   ]
  }
 ],
 "metadata": {
  "kernelspec": {
   "display_name": "Python 3",
   "language": "python",
   "name": "python3"
  },
  "language_info": {
   "codemirror_mode": {
    "name": "ipython",
    "version": 3
   },
   "file_extension": ".py",
   "mimetype": "text/x-python",
   "name": "python",
   "nbconvert_exporter": "python",
   "pygments_lexer": "ipython3",
   "version": "3.5.6"
  }
 },
 "nbformat": 4,
 "nbformat_minor": 2
}
