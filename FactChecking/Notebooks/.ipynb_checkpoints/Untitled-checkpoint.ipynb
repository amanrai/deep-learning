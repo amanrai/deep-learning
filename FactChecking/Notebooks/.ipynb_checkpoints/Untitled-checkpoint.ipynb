{
 "cells": [
  {
   "cell_type": "code",
   "execution_count": 8,
   "metadata": {},
   "outputs": [
    {
     "name": "stdout",
     "output_type": "stream",
     "text": [
      "bitbucket  Code  Data  fever_processed.pickle  temp\r\n"
     ]
    }
   ],
   "source": [
    "!ls ../../../"
   ]
  },
  {
   "cell_type": "code",
   "execution_count": 17,
   "metadata": {},
   "outputs": [],
   "source": [
    "import numpy as np"
   ]
  },
  {
   "cell_type": "code",
   "execution_count": 9,
   "metadata": {},
   "outputs": [],
   "source": [
    "import pickle\n",
    "processed_data = pickle.load(open(\"../../../fever_processed.pickle\", \"rb\"))"
   ]
  },
  {
   "cell_type": "code",
   "execution_count": 10,
   "metadata": {},
   "outputs": [],
   "source": [
    "training_data = processed_data[:-len(processed_data)//10]\n",
    "testing_data = processed_data[-len(processed_data)//10:]"
   ]
  },
  {
   "cell_type": "code",
   "execution_count": 11,
   "metadata": {},
   "outputs": [
    {
     "name": "stdout",
     "output_type": "stream",
     "text": [
      "97893 10878\n"
     ]
    }
   ],
   "source": [
    "print(len(training_data), len(testing_data))"
   ]
  },
  {
   "cell_type": "code",
   "execution_count": 15,
   "metadata": {
    "scrolled": false
   },
   "outputs": [],
   "source": [
    "def getSamples(data):\n",
    "    classes = [line[\"label\"] for line in data]\n",
    "    positive_samples = np.asarray(classes) ==\"SUPPORTS\"\n",
    "    positive_samples = np.asarray([i for i in range(len(positive_samples)) if positive_samples[i] == True])\n",
    "    negative_samples = np.asarray(classes) ==\"REFUTES\"\n",
    "    negative_samples = np.asarray([i for i in range(len(negative_samples)) if negative_samples[i] == True])\n",
    "    print(len(positive_samples), len(negative_samples))\n",
    "    return positive_samples, negative_samples"
   ]
  },
  {
   "cell_type": "code",
   "execution_count": 18,
   "metadata": {},
   "outputs": [
    {
     "name": "stdout",
     "output_type": "stream",
     "text": [
      "71321 26572\n",
      "7956 2922\n"
     ]
    }
   ],
   "source": [
    "tr_p, tr_n = getSamples(training_data)\n",
    "te_p, te_n = getSamples(testing_data)"
   ]
  },
  {
   "cell_type": "code",
   "execution_count": 19,
   "metadata": {},
   "outputs": [],
   "source": [
    "max_claim_length = 30\n",
    "max_evid_length = 90"
   ]
  },
  {
   "cell_type": "code",
   "execution_count": null,
   "metadata": {},
   "outputs": [],
   "source": [
    "def getBatch(bs = 64, validation = False):\n",
    "    source = training_data\n",
    "    positive_samples = tr_p\n",
    "    negative_samples = tr_n\n",
    "    \n",
    "    if (validation):\n",
    "        source = testing_data\n",
    "        positive_samples = te_p\n",
    "        negative_samples = te_n\n",
    "    \n",
    "    n_samples = bs // 2\n",
    "    p_samples = bs - n_samples\n",
    "    positives = np.random.randint(0, len(positive_samples), (p_samples,))\n",
    "    negatives = np.random.randint(0, len(negative_samples), (n_samples,))\n",
    "    positives = positive_samples[positives]\n",
    "    negatives = negative_samples[negatives]\n",
    "    \n",
    "    all_indices = []\n",
    "    all_indices.extend(positives)\n",
    "    all_indices.extend(negatives)\n",
    "    \n",
    "    _dt = []\n",
    "    _ds = []\n",
    "    _da = []\n",
    "    _qt = []\n",
    "    _qs = []\n",
    "    _qa = []\n",
    "    _c = []\n",
    "    \n",
    "    for index in all_indices:\n",
    "        _dpq = [\"[CLS]\"]\n",
    "        _dpq.extend(source[index][\"processed\"][\"claim\"])\n",
    "        _dpd = [\"[CLS]\"]\n",
    "        for evid in source[index][\"processed\"][\"evidentiary\"]:\n",
    "            _dpd.extend(evid)\n",
    "        \n",
    "        while (len(_dpd) < max_evid_length):\n",
    "            _dpd.append(\"[PAD]\")\n",
    "        _dpd = _dpd[:max_evid_length]\n",
    "        \n",
    "        while (len(_dpq) < max_claim_length):\n",
    "            _dpq.append(\"[PAD]\")\n",
    "        _dpq = _dpq[:max_claim_length]\n",
    "        \n",
    "        dsegments = np.zeros((max_evid_length,))\n",
    "        qsegments = np.zeros((max_claim_length,))\n",
    "\n",
    "        \n",
    "        #_dp.append(\"[SEP]\")"
   ]
  }
 ],
 "metadata": {
  "kernelspec": {
   "display_name": "Python 3",
   "language": "python",
   "name": "python3"
  },
  "language_info": {
   "codemirror_mode": {
    "name": "ipython",
    "version": 3
   },
   "file_extension": ".py",
   "mimetype": "text/x-python",
   "name": "python",
   "nbconvert_exporter": "python",
   "pygments_lexer": "ipython3",
   "version": "3.7.3"
  }
 },
 "nbformat": 4,
 "nbformat_minor": 2
}
