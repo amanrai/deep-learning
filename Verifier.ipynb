{
 "cells": [
  {
   "cell_type": "code",
   "execution_count": null,
   "metadata": {
    "ExecuteTime": {
     "end_time": "2019-04-03T16:39:48.166545Z",
     "start_time": "2019-04-03T16:39:47.850902Z"
    }
   },
   "outputs": [],
   "source": [
    "import numpy as np\n",
    "import torch\n",
    "import pickle\n",
    "from pytorch_pretrained_bert import BertTokenizer, BertModel, BertForMaskedLM"
   ]
  },
  {
   "cell_type": "markdown",
   "metadata": {},
   "source": [
    "- The first 512 tokens of the concatenated evidences as shown in the dataset are used. Substitute this for a sentence formation. "
   ]
  },
  {
   "cell_type": "code",
   "execution_count": null,
   "metadata": {
    "ExecuteTime": {
     "end_time": "2019-04-03T16:39:52.122110Z",
     "start_time": "2019-04-03T16:39:48.963010Z"
    }
   },
   "outputs": [],
   "source": [
    "data = pickle.load(open(\"../Data/usable_verifiable_fever_data.pickle\", \"rb\"))\n",
    "tokenizer = BertTokenizer.from_pretrained('bert-base-uncased')\n",
    "print(str(len(data)) + \" data points.\")"
   ]
  },
  {
   "cell_type": "code",
   "execution_count": null,
   "metadata": {
    "ExecuteTime": {
     "end_time": "2019-04-03T16:39:52.134797Z",
     "start_time": "2019-04-03T16:39:52.123397Z"
    }
   },
   "outputs": [],
   "source": [
    "class Verifier(torch.nn.Module):\n",
    "    def __init__(self, attention_dim = 512, internal_lstm_dim = 128, num_layers_to_take_from_bert=4):\n",
    "        super(Verifier, self).__init__()\n",
    "        self.bert = BertModel.from_pretrained('bert-base-uncased')\n",
    "        self.encoder_lstm = torch.nn.LSTM(num_layers_to_take_from_bert*768, \n",
    "                                           internal_lstm_dim, batch_first=True)\n",
    "        self.attention_internal = torch.nn.Linear(internal_lstm_dim, internal_lstm_dim)\n",
    "        self.softmax = torch.nn.Softmax()\n",
    "        self.sigmoid = torch.nn.Sigmoid()\n",
    "        self.output = torch.nn.Linear(internal_lstm_dim*2, 1)\n",
    "        print(\"REMEMBER TO USE BCEWithLogitsLoss since the output is not put through sigmoid\")\n",
    "    \n",
    "    def forward(self, claims, evidences):\n",
    "        #put both the claims and the evidences thru BERT\n",
    "        claims_, _ = self.bert(claims)\n",
    "        claims_ = torch.cat(claims_[-4:], dim=-1)\n",
    "        evidences_, _ = self.bert(evidences)\n",
    "        evidences_ = torch.cat(evidences_[-4:], dim=-1)\n",
    "        #print(\"OUTPUTS FROM BERT\")\n",
    "        #print(claims_.size(), evidences_.size())\n",
    "        \n",
    "        #put the bert output through the same encoder\n",
    "        claims_, _ = self.encoder_lstm(claims_)\n",
    "        evidences_, _ = self.encoder_lstm(evidences_)        \n",
    "        #print(\"OUTPUTS FROM THE ENCODER LSTM\")\n",
    "        #print(claims_.size(), evidences_.size())\n",
    "        \n",
    "        #do attention between the last time step of the claims, and all the timesteps of the evidences\n",
    "        claims_ = self.attention_internal(claims_[:,-1,:]).unsqueeze(dim=1)\n",
    "        att = torch.matmul(evidences_, claims_.transpose(1, 2))\n",
    "        att = self.softmax(att)\n",
    "        evidences_ = torch.sum(evidences_ * att, dim=1)\n",
    "        #print(\"EVIDENCES POST ATTENTION\")\n",
    "        #print(evidences_.size())\n",
    "        \n",
    "        #put the evidence through the output_prep vector\n",
    "        out_ = torch.cat([claims_.squeeze(dim=1), evidences_], dim=-1)\n",
    "        #print(\"POST ATTENTION CONCAT\")\n",
    "        #print(out_.size())\n",
    "        out_ = self.output(out_)\n",
    "        #print(\"FINAL OUTPUT SIZE\")\n",
    "        #print(out_.size())\n",
    "        return self.sigmoid(out_.squeeze(dim=-1))"
   ]
  },
  {
   "cell_type": "code",
   "execution_count": null,
   "metadata": {
    "ExecuteTime": {
     "end_time": "2019-04-03T16:40:00.239286Z",
     "start_time": "2019-04-03T16:39:52.926125Z"
    }
   },
   "outputs": [],
   "source": [
    "verifier = Verifier().cuda()"
   ]
  },
  {
   "cell_type": "code",
   "execution_count": null,
   "metadata": {
    "ExecuteTime": {
     "end_time": "2019-04-03T16:40:00.244933Z",
     "start_time": "2019-04-03T16:40:00.241035Z"
    }
   },
   "outputs": [],
   "source": [
    "def getBatch(bs = 5, max_len=512, claim_len=30):\n",
    "    indices = np.random.randint(0, len(data), (bs,))\n",
    "    batch_evidences = [data[index][\"evidence\"] for index in indices]\n",
    "    batch_claims = [data[index][\"claim\"] for index in indices]\n",
    "    y = [data[index][\"class\"] for index in indices]\n",
    "    return batch_claims, batch_evidences, y"
   ]
  },
  {
   "cell_type": "code",
   "execution_count": null,
   "metadata": {
    "ExecuteTime": {
     "end_time": "2019-04-03T16:40:01.157263Z",
     "start_time": "2019-04-03T16:40:01.150634Z"
    }
   },
   "outputs": [],
   "source": [
    "loss_fn = torch.nn.BCELoss()\n",
    "optimizer = torch.optim.Adam(verifier.parameters(), lr=0.01)"
   ]
  },
  {
   "cell_type": "code",
   "execution_count": null,
   "metadata": {
    "ExecuteTime": {
     "end_time": "2019-04-03T16:40:01.886076Z",
     "start_time": "2019-04-03T16:40:01.875798Z"
    }
   },
   "outputs": [],
   "source": [
    "def train(batch_size=4, total_batches=100):\n",
    "    losses = []\n",
    "    for i in range(total_batches):\n",
    "        claim, evidence, y = getBatch(bs=batch_size)\n",
    "        claim = torch.LongTensor(claim).cuda()\n",
    "        evidence = torch.LongTensor(evidence).cuda()\n",
    "        y = torch.FloatTensor(y).cuda()\n",
    "        output = verifier.forward(claim, evidence)\n",
    "        loss = loss_fn(output, y)\n",
    "        losses.append(loss.data.item())\n",
    "        loss.backward()\n",
    "        optimizer.step()\n",
    "        losses = losses[-100:]\n",
    "        print(\"Batch:\", str(i), \"; Average Loss:\", str(np.round(np.mean(losses), 4)), end=\"\\r\")"
   ]
  },
  {
   "cell_type": "code",
   "execution_count": null,
   "metadata": {
    "ExecuteTime": {
     "end_time": "2019-04-03T16:44:24.127838Z",
     "start_time": "2019-04-03T16:40:02.640822Z"
    }
   },
   "outputs": [],
   "source": [
    "train(total_batches=10000)"
   ]
  },
  {
   "cell_type": "code",
   "execution_count": null,
   "metadata": {},
   "outputs": [],
   "source": []
  }
 ],
 "metadata": {
  "kernelspec": {
   "display_name": "Python 3",
   "language": "python",
   "name": "python3"
  },
  "language_info": {
   "codemirror_mode": {
    "name": "ipython",
    "version": 3
   },
   "file_extension": ".py",
   "mimetype": "text/x-python",
   "name": "python",
   "nbconvert_exporter": "python",
   "pygments_lexer": "ipython3",
   "version": "3.5.6"
  }
 },
 "nbformat": 4,
 "nbformat_minor": 2
}
