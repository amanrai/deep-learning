{
 "cells": [
  {
   "cell_type": "code",
   "execution_count": 6,
   "metadata": {
    "ExecuteTime": {
     "end_time": "2019-04-23T13:05:01.959120Z",
     "start_time": "2019-04-23T13:05:01.954838Z"
    }
   },
   "outputs": [],
   "source": [
    "_articles = \"../../../Data/sumdata/train/train.article.txt\"\n",
    "_titles = \"../../../Data/sumdata/train/train.title.txt\""
   ]
  },
  {
   "cell_type": "code",
   "execution_count": 7,
   "metadata": {
    "ExecuteTime": {
     "end_time": "2019-04-23T13:05:04.392463Z",
     "start_time": "2019-04-23T13:05:02.193668Z"
    }
   },
   "outputs": [
    {
     "name": "stdout",
     "output_type": "stream",
     "text": [
      "3803958 3803958\n"
     ]
    }
   ],
   "source": [
    "articles = []\n",
    "titles = []\n",
    "with open(_articles, \"r\") as f:\n",
    "    articles = f.read().split(\"\\n\")\n",
    "with open(_titles, \"r\") as f:\n",
    "    titles = f.read().split(\"\\n\")\n",
    "print(len(articles), len(titles))"
   ]
  },
  {
   "cell_type": "code",
   "execution_count": 59,
   "metadata": {
    "ExecuteTime": {
     "end_time": "2019-04-23T15:16:44.292501Z",
     "start_time": "2019-04-23T15:16:43.313005Z"
    }
   },
   "outputs": [
    {
     "name": "stdout",
     "output_type": "stream",
     "text": [
      "[101]\n"
     ]
    }
   ],
   "source": [
    "from pytorch_pretrained_bert import BertTokenizer\n",
    "import numpy as np\n",
    "tokenizer = BertTokenizer.from_pretrained('bert-base-uncased')\n",
    "cls_token = tokenizer.convert_tokens_to_ids([\"[CLS]\"])\n",
    "print(_cls_token)"
   ]
  },
  {
   "cell_type": "code",
   "execution_count": 25,
   "metadata": {
    "ExecuteTime": {
     "end_time": "2019-04-23T13:23:30.663621Z",
     "start_time": "2019-04-23T13:23:30.660112Z"
    }
   },
   "outputs": [],
   "source": [
    "max_doc_len = 100\n",
    "max_sum_len = 20\n"
   ]
  },
  {
   "cell_type": "code",
   "execution_count": 57,
   "metadata": {
    "ExecuteTime": {
     "end_time": "2019-04-23T13:37:36.251121Z",
     "start_time": "2019-04-23T13:37:36.233482Z"
    }
   },
   "outputs": [
    {
     "name": "stdout",
     "output_type": "stream",
     "text": [
      "[False, False, False, False, False, False, False, False, False, False, False, False, False, False, False, False, False, False, False, False]\n",
      "[False, False, False, False, False, False, False, False, False, False, False, False, False, False, False, False, False, False, False, False]\n",
      "[False, False, False, False, False, False, False, False, False, False, False, False, False, False, False, False, False, False, False, False]\n",
      "[False, False, False, False, False, False, False, False, False, False, False, False, False, False, False, False, False, False, False, False]\n",
      "[False, False, False, False, False, False, False, False, False, False, False, False, False, False, False, False, False, False, False, False]\n"
     ]
    }
   ],
   "source": [
    "def genBatch(bs = 64, max_article_len = 100, max_summary_len = 15):\n",
    "    indices = np.random.randint(0, len(articles), (bs,))\n",
    "    _docs = [tokenizer.tokenize(articles[index]) for index in indices]\n",
    "    _sums = [tokenizer.tokenize(titles[index]) for index in indices]\n",
    "    for doc in _docs:\n",
    "        doc.insert(0, \"[CLS]\")\n",
    "        doc.append(\"[SEP]\")\n",
    "        while (len(doc) < max_doc_len):\n",
    "            doc.append(\"[PAD]\")\n",
    "        doc = doc[:max_doc_len]\n",
    "    \n",
    "    copy = []\n",
    "    for summary in _sums:\n",
    "        doc = summary\n",
    "        while (len(doc) < max_sum_len):\n",
    "            doc.append(\"[PAD]\")\n",
    "        doc = doc[:max_sum_len]\n",
    "    \n",
    "    _docs = [tokenizer.convert_tokens_to_ids(doc) for doc in _docs]\n",
    "    _sums = [tokenizer.convert_tokens_to_ids(summary) for summary in _sums]\n",
    "        \n",
    "genBatch(bs=5)"
   ]
  },
  {
   "cell_type": "code",
   "execution_count": null,
   "metadata": {},
   "outputs": [],
   "source": []
  },
  {
   "cell_type": "code",
   "execution_count": null,
   "metadata": {},
   "outputs": [],
   "source": []
  }
 ],
 "metadata": {
  "kernelspec": {
   "display_name": "Python 3",
   "language": "python",
   "name": "python3"
  },
  "language_info": {
   "codemirror_mode": {
    "name": "ipython",
    "version": 3
   },
   "file_extension": ".py",
   "mimetype": "text/x-python",
   "name": "python",
   "nbconvert_exporter": "python",
   "pygments_lexer": "ipython3",
   "version": "3.5.6"
  }
 },
 "nbformat": 4,
 "nbformat_minor": 2
}
