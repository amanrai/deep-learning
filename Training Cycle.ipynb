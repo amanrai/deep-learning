{
 "cells": [
  {
   "cell_type": "code",
   "execution_count": 1,
   "metadata": {
    "ExecuteTime": {
     "end_time": "2019-04-25T15:56:46.885071Z",
     "start_time": "2019-04-25T15:56:45.601275Z"
    }
   },
   "outputs": [],
   "source": [
    "%matplotlib inline\n",
    "import seaborn as sns"
   ]
  },
  {
   "cell_type": "code",
   "execution_count": 5,
   "metadata": {
    "ExecuteTime": {
     "end_time": "2019-04-25T15:57:30.909406Z",
     "start_time": "2019-04-25T15:57:30.636501Z"
    }
   },
   "outputs": [
    {
     "data": {
      "image/png": "[encoded data removed]",
      "text/plain": [
       "<Figure size 1036.8x576 with 1 Axes>"
      ]
     },
     "metadata": {},
     "output_type": "display_data"
    }
   ],
   "source": [
    "import matplotlib.pyplot as plt\n",
    "import numpy as np\n",
    "import json\n",
    "_data = None\n",
    "sns.set_style(\"whitegrid\")\n",
    "with open(\"./Summarizer_training_cycle.json\", \"r\") as f:\n",
    "    _data = json.loads(f.read())\n",
    "trg = _data[\"training_losses\"]\n",
    "data = _data[\"validation_losses\"]\n",
    "acc = np.round(_data[\"validation_accuracy\"],3).tolist()\n",
    "#evid = np.round(_data[\"evidence_accuracy\"],4)\n",
    "labels = len(data)\n",
    "width = len(data)\n",
    "if (width < 12):\n",
    "    width = 12\n",
    "plt.figure(figsize=(width*1.2, 8))\n",
    "ticks = range(width)\n",
    "while (len(data) < width):\n",
    "    data.append(None)\n",
    "    trg.append(None)\n",
    "    acc.append(None)\n",
    "#acc = np.round(acc, 3)\n",
    "import pandas as pd\n",
    "df = pd.DataFrame({\n",
    "    \"validation\":data\n",
    "})\n",
    "sizes = {\n",
    "    \"validation\":1,\n",
    "    \"training\":5\n",
    "}\n",
    "g = sns.lineplot(data=df, marker=\"o\", hue=\"event\", style=\"choice\")\n",
    "g.set(xticks = range(len(data)))\n",
    "g.set(xlabel = \"epochs\")\n",
    "axes = g.axes\n",
    "#axes.set_ylim(0.3, 1)\n",
    "g.set(ylabel = \"losses (categorical crossentropy)\")\n",
    "for i in range(labels):\n",
    "    g.text(i, data[i]-0.025, \n",
    "           \"val_loss:\" + str(np.round([data[i]], 3)[0]),  \n",
    "           horizontalalignment='center', \n",
    "           size='medium', \n",
    "           color='gray', weight='light')\n",
    "    g.text(i, acc[i]+0.025,\n",
    "          \"acc:\" + str(np.round(acc[i]*100,2)) + \"%\" + \"\\nea:\" + str(np.round(evid[i]*100,2)) + \"%\",\n",
    "          horizontalalignment='center',\n",
    "          color=\"gray\", weight=\"light\")"
   ]
  },
  {
   "cell_type": "code",
   "execution_count": null,
   "metadata": {},
   "outputs": [],
   "source": []
  },
  {
   "cell_type": "code",
   "execution_count": null,
   "metadata": {},
   "outputs": [],
   "source": []
  }
 ],
 "metadata": {
  "kernelspec": {
   "display_name": "Python 3",
   "language": "python",
   "name": "python3"
  },
  "language_info": {
   "codemirror_mode": {
    "name": "ipython",
    "version": 3
   },
   "file_extension": ".py",
   "mimetype": "text/x-python",
   "name": "python",
   "nbconvert_exporter": "python",
   "pygments_lexer": "ipython3",
   "version": "3.5.6"
  }
 },
 "nbformat": 4,
 "nbformat_minor": 2
}
