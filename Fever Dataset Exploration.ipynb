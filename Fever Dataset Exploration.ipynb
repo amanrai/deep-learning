{
 "cells": [
  {
   "cell_type": "code",
   "execution_count": null,
   "metadata": {
    "ExecuteTime": {
     "end_time": "2019-04-03T13:12:34.454572Z",
     "start_time": "2019-04-03T13:12:33.183869Z"
    }
   },
   "outputs": [],
   "source": [
    "import torch\n",
    "from pytorch_pretrained_bert import BertTokenizer, BertModel, BertForMaskedLM\n",
    "tokenizer = BertTokenizer.from_pretrained('bert-base-uncased')"
   ]
  },
  {
   "cell_type": "code",
   "execution_count": null,
   "metadata": {
    "ExecuteTime": {
     "end_time": "2019-04-03T13:12:42.282707Z",
     "start_time": "2019-04-03T13:12:34.456291Z"
    },
    "scrolled": true
   },
   "outputs": [],
   "source": [
    "model = BertModel.from_pretrained('bert-base-uncased')\n",
    "model.cuda()"
   ]
  },
  {
   "cell_type": "markdown",
   "metadata": {},
   "source": [
    "### Prepare Data"
   ]
  },
  {
   "cell_type": "code",
   "execution_count": null,
   "metadata": {
    "ExecuteTime": {
     "end_time": "2019-04-03T13:12:47.205490Z",
     "start_time": "2019-04-03T13:12:45.617054Z"
    }
   },
   "outputs": [],
   "source": [
    "import json\n",
    "data = []\n",
    "with open(\"../Data/Fever/train.jsonl\", \"r\") as f:\n",
    "    lines = f.read().split(\"\\n\")\n",
    "    for line in lines:\n",
    "        data.append(json.loads(line))"
   ]
  },
  {
   "cell_type": "code",
   "execution_count": null,
   "metadata": {
    "ExecuteTime": {
     "end_time": "2019-04-03T13:13:49.204681Z",
     "start_time": "2019-04-03T13:12:48.767654Z"
    }
   },
   "outputs": [],
   "source": [
    "base_data = {}\n",
    "ignored_lines = []\n",
    "base_data_path = \"../Data/Fever/wiki-pages/\"\n",
    "from os import listdir\n",
    "base_files = listdir(base_data_path)\n",
    "for file in base_files:\n",
    "    with open(base_data_path + file, \"r\") as f:\n",
    "        lines = f.read().split(\"\\n\")\n",
    "        for line in lines:\n",
    "            try:\n",
    "                _js = json.loads(line)\n",
    "                base_data[_js[\"id\"]] = _js\n",
    "            except:\n",
    "                ignored_lines.append(line)"
   ]
  },
  {
   "cell_type": "code",
   "execution_count": null,
   "metadata": {
    "ExecuteTime": {
     "end_time": "2019-04-03T04:13:15.677963Z",
     "start_time": "2019-04-03T04:13:13.189129Z"
    }
   },
   "outputs": [],
   "source": [
    "import nltk\n",
    "nltk.download(\"punkt\")"
   ]
  },
  {
   "cell_type": "code",
   "execution_count": null,
   "metadata": {
    "ExecuteTime": {
     "end_time": "2019-04-03T13:14:36.517874Z",
     "start_time": "2019-04-03T13:13:49.206033Z"
    },
    "scrolled": false
   },
   "outputs": [],
   "source": [
    "from nltk.tokenize import sent_tokenize\n",
    "count = 0\n",
    "usable_data = []\n",
    "not_verifiable = 0\n",
    "verifiable_but_data_missing = 0\n",
    "sentence_not_found_in_evidence = 0\n",
    "for dp in data:\n",
    "    usable = True\n",
    "    count += 1\n",
    "    if (dp[\"verifiable\"] == \"VERIFIABLE\"):\n",
    "        if (len(dp[\"evidence\"]) > 0):\n",
    "            for evidence in dp[\"evidence\"][0]:\n",
    "                if (evidence[2] in base_data):\n",
    "                    text = sent_tokenize(base_data[evidence[2]][\"text\"])\n",
    "                    try:\n",
    "                        a = len(text[evidence[3]])\n",
    "                    except:\n",
    "                        sentence_not_found_in_evidence = sentence_not_found_in_evidence + 1 \n",
    "                        usable = False\n",
    "                else:\n",
    "                    verifiable_but_data_missing = verifiable_but_data_missing + 1\n",
    "                    usable = False\n",
    "        else:\n",
    "            usable=False\n",
    "    else:\n",
    "        not_verifiable += 1\n",
    "        usable=False\n",
    "    if (usable):\n",
    "        usable_data.append(dp)\n",
    "        #print(dp[\"label\"])\n",
    "print(len(usable_data), not_verifiable, verifiable_but_data_missing, sentence_not_found_in_evidence)"
   ]
  },
  {
   "cell_type": "code",
   "execution_count": null,
   "metadata": {
    "ExecuteTime": {
     "end_time": "2019-04-03T13:14:36.523954Z",
     "start_time": "2019-04-03T13:14:36.519836Z"
    }
   },
   "outputs": [],
   "source": [
    "len(base_data)"
   ]
  },
  {
   "cell_type": "code",
   "execution_count": null,
   "metadata": {
    "ExecuteTime": {
     "end_time": "2019-04-03T13:14:51.548230Z",
     "start_time": "2019-04-03T13:14:51.544744Z"
    }
   },
   "outputs": [],
   "source": [
    "classes = {\n",
    "    \"SUPPORTS\":1,\n",
    "    \"REFUTES\":0\n",
    "}"
   ]
  },
  {
   "cell_type": "code",
   "execution_count": null,
   "metadata": {
    "ExecuteTime": {
     "end_time": "2019-04-03T13:14:52.984847Z",
     "start_time": "2019-04-03T13:14:52.980837Z"
    }
   },
   "outputs": [],
   "source": [
    "print(classes)"
   ]
  },
  {
   "cell_type": "code",
   "execution_count": null,
   "metadata": {
    "ExecuteTime": {
     "end_time": "2019-04-03T13:58:49.093663Z",
     "start_time": "2019-04-03T13:49:11.110211Z"
    },
    "scrolled": false
   },
   "outputs": [],
   "source": [
    "max_claim_len = 30\n",
    "max_evidence_len = 512\n",
    "padding_string = \"[PAD]\" # from https://github.com/huggingface/pytorch-pretrained-BERT/blob/master/pytorch_pretrained_bert/tokenization.py\n",
    "verifiable_data = [] \n",
    "count = 0\n",
    "for line in usable_data:\n",
    "    count = count + 1\n",
    "    tokenized_text = tokenizer.tokenize(line[\"claim\"])\n",
    "    while(len(tokenized_text) < max_claim_len):\n",
    "        tokenized_text.append(padding_string)\n",
    "    indexed_tokens = tokenizer.convert_tokens_to_ids(tokenized_text[:max_claim_len])    \n",
    "    _d = {\n",
    "        \"claim\":indexed_tokens,\n",
    "        \"class\":classes[line[\"label\"]]\n",
    "    }\n",
    "    _evidence = []\n",
    "    add = True        \n",
    "    if (line[\"verifiable\"] == \"VERIFIABLE\"):\n",
    "        evid = \"\"\n",
    "        for evidence in line[\"evidence\"][0]:\n",
    "            evid = evid + base_data[evidence[2]][\"text\"] + \"\\n\"\n",
    "        if (len(evid) > 10):\n",
    "            evid_tokens = tokenizer.tokenize(evid)\n",
    "            while (len(evid_tokens) < max_evidence_len):\n",
    "                evid_tokens.append(padding_string)\n",
    "            evid_tokens = evid_tokens[:max_evidence_len]\n",
    "            _evidence.extend(tokenizer.convert_tokens_to_ids(evid_tokens))\n",
    "        else:\n",
    "            add = False\n",
    "    _d[\"evidence\"] = _evidence\n",
    "    if (add):\n",
    "        verifiable_data.append(_d)\n",
    "    print(str(count) + \"/\" + str(len(usable_data)), end=\"\\r\")\n",
    "    #print(len(_d[\"evidence\"]))\n",
    "    #print(_d)\n",
    "print(\"\\n\")\n",
    "print(len(verifiable_data))\n",
    "import pickle\n",
    "pickle.dump(verifiable_data, open(\"../Data/usable_verifiable_fever_data.pickle\", \"wb\"))"
   ]
  },
  {
   "cell_type": "code",
   "execution_count": null,
   "metadata": {},
   "outputs": [],
   "source": [
    "print(len(verifiable_data))\n",
    "print(len(verifiable_data[0][\"evidence\"]))"
   ]
  },
  {
   "cell_type": "code",
   "execution_count": null,
   "metadata": {},
   "outputs": [],
   "source": [
    "print(len(data))"
   ]
  },
  {
   "cell_type": "markdown",
   "metadata": {},
   "source": [
    "### Load Data"
   ]
  },
  {
   "cell_type": "code",
   "execution_count": null,
   "metadata": {
    "ExecuteTime": {
     "end_time": "2019-04-01T13:55:19.218858Z",
     "start_time": "2019-04-01T13:55:15.334280Z"
    }
   },
   "outputs": [],
   "source": [
    "import pickle\n",
    "import numpy as np\n",
    "verifiable_data = np.asarray(pickle.load(open(\"./fever_data.pickle\", \"rb\")))"
   ]
  },
  {
   "cell_type": "code",
   "execution_count": null,
   "metadata": {
    "ExecuteTime": {
     "end_time": "2019-04-01T13:58:10.018044Z",
     "start_time": "2019-04-01T13:57:33.090532Z"
    }
   },
   "outputs": [],
   "source": [
    "def getEvidenceLengths(data_array):\n",
    "    evidence_lengths = []\n",
    "    for data in data_array:\n",
    "        evidence_lengths.append(len(data[\"evidence\"]))\n",
    "    return np.asarray(evidence_lengths)\n",
    "\n",
    "def getDataForMaxEvidenceLength(bs=64, max_len=512, allow_zero_lengths=True):\n",
    "    indices = np.nonzero(getEvidenceLengths(verifiable_data)<max_len)\n",
    "    if (allow_zero_lengths is not True):\n",
    "        fresh_data = verifiable_data[indices]\n",
    "        indices = np.nonzero(getEvidenceLengths(fresh_data) > 0)\n",
    "    return fresh_data[np.random.choice(indices[0], bs)]\n",
    "\n",
    "def makeData(bs=64, max_len=512):\n",
    "    f_data = []\n",
    "    data = getDataForMaxEvidenceLength(bs, max_len, allow_zero_lengths=False)\n",
    "    print(len(data))\n",
    "    for dp in data:\n",
    "        _t = torch.tensor([dp[\"evidence\"]])\n",
    "        encoded, _ = model(_t)\n",
    "        f_data.append(encoded[-1])\n",
    "                           \n",
    "makeData()"
   ]
  },
  {
   "cell_type": "code",
   "execution_count": null,
   "metadata": {
    "ExecuteTime": {
     "end_time": "2019-04-01T12:34:37.151711Z",
     "start_time": "2019-04-01T12:34:37.146812Z"
    }
   },
   "outputs": [],
   "source": [
    "print(indices)"
   ]
  },
  {
   "cell_type": "code",
   "execution_count": null,
   "metadata": {},
   "outputs": [],
   "source": []
  }
 ],
 "metadata": {
  "kernelspec": {
   "display_name": "Python 3",
   "language": "python",
   "name": "python3"
  },
  "language_info": {
   "codemirror_mode": {
    "name": "ipython",
    "version": 3
   },
   "file_extension": ".py",
   "mimetype": "text/x-python",
   "name": "python",
   "nbconvert_exporter": "python",
   "pygments_lexer": "ipython3",
   "version": "3.5.6"
  }
 },
 "nbformat": 4,
 "nbformat_minor": 2
}
