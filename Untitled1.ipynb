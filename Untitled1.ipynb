{
 "cells": [
  {
   "cell_type": "code",
   "execution_count": null,
   "metadata": {},
   "outputs": [],
   "source": [
    "from pytorch_pretrained_bert import BertTokenizer\n",
    "tokenizer = BertTokenizer.from_pretrained('bert-base-uncased')\n",
    "with torch.no_grad():\n",
    "    d, se, m, su, po = genBatch(bs=8)\n",
    "    words, atts = network.forward(d, se, m, output_ts=20)\n",
    "    print(words.topk(5, dim=-1)[1][0])\n",
    "    print(su[0])\n",
    "    #print(su)\n",
    "    #print(words.size())\n",
    "    words2 = F.softmax(words, dim=1)\n",
    "    w = torch.max(words2, dim=-1)[1]\n",
    "    #print(w)\n",
    "    _pred = tokenizer.convert_ids_to_tokens(w.cpu().numpy()[0])\n",
    "    _act = tokenizer.convert_ids_to_tokens(su.cpu().numpy()[0])"
   ]
  }
 ],
 "metadata": {
  "kernelspec": {
   "display_name": "Python 3",
   "language": "python",
   "name": "python3"
  },
  "language_info": {
   "codemirror_mode": {
    "name": "ipython",
    "version": 3
   },
   "file_extension": ".py",
   "mimetype": "text/x-python",
   "name": "python",
   "nbconvert_exporter": "python",
   "pygments_lexer": "ipython3",
   "version": "3.7.3"
  }
 },
 "nbformat": 4,
 "nbformat_minor": 2
}
