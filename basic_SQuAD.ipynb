{
 "cells": [
  {
   "cell_type": "code",
   "execution_count": 1,
   "metadata": {
    "ExecuteTime": {
     "end_time": "2019-04-11T09:20:31.672062Z",
     "start_time": "2019-04-11T09:20:31.344023Z"
    }
   },
   "outputs": [
    {
     "name": "stdout",
     "output_type": "stream",
     "text": [
      "Better speed can be achieved with apex installed from https://www.github.com/nvidia/apex.\n"
     ]
    }
   ],
   "source": [
    "import pickle\n",
    "import numpy as np\n",
    "import torch\n",
    "import torch.nn.functional as F\n",
    "from pytorch_pretrained_bert import BertTokenizer, BertModel, BertForMaskedLM"
   ]
  },
  {
   "cell_type": "code",
   "execution_count": 2,
   "metadata": {
    "ExecuteTime": {
     "end_time": "2019-04-11T09:20:34.252711Z",
     "start_time": "2019-04-11T09:20:31.673831Z"
    }
   },
   "outputs": [],
   "source": [
    "all_data = pickle.load(open(\"../../../Data/squad_processed_1.1.pickle\", \"rb\"))\n",
    "data = np.asarray(all_data[len(all_data) // 5:])\n",
    "validation_data = np.asarray(all_data[: len(all_data) // 5])"
   ]
  },
  {
   "cell_type": "code",
   "execution_count": 3,
   "metadata": {
    "ExecuteTime": {
     "end_time": "2019-04-11T09:20:34.257823Z",
     "start_time": "2019-04-11T09:20:34.254432Z"
    }
   },
   "outputs": [
    {
     "name": "stdout",
     "output_type": "stream",
     "text": [
      "87506\n",
      "70005\n"
     ]
    }
   ],
   "source": [
    "print(len(all_data))\n",
    "print(len(data))"
   ]
  },
  {
   "cell_type": "code",
   "execution_count": 4,
   "metadata": {
    "ExecuteTime": {
     "end_time": "2019-04-11T09:20:34.269458Z",
     "start_time": "2019-04-11T09:20:34.259518Z"
    }
   },
   "outputs": [],
   "source": [
    "def getBatch(bs = 64, validation=False):\n",
    "    _use_data = data\n",
    "    if (validation == True):\n",
    "        _use_data = validation_data\n",
    "    indices = np.random.randint(0, len(_use_data), (bs,))\n",
    "    batch = np.asarray(data)[indices]\n",
    "    #print(len(batch))\n",
    "    #print(batch)\n",
    "    inputs = torch.LongTensor([dp[\"data\"][\"tokens\"] for dp in batch]).cuda()\n",
    "    attention_masks = inputs != 0 #works like numpy does.\n",
    "    segments = torch.LongTensor([dp[\"data\"][\"segments\"] for dp in batch]).cuda()\n",
    "    start_ = torch.LongTensor([dp[\"answer_start\"] for dp in batch]).cuda()\n",
    "    end_ = torch.LongTensor([dp[\"answer_end\"] for dp in batch]).cuda()\n",
    "    return inputs, segments, attention_masks, start_, end_"
   ]
  },
  {
   "cell_type": "code",
   "execution_count": 5,
   "metadata": {
    "ExecuteTime": {
     "end_time": "2019-04-11T09:20:37.336061Z",
     "start_time": "2019-04-11T09:20:35.483663Z"
    }
   },
   "outputs": [
    {
     "name": "stdout",
     "output_type": "stream",
     "text": [
      "torch.Size([3, 512]) torch.Size([3, 512]) torch.Size([3]) torch.Size([3])\n"
     ]
    }
   ],
   "source": [
    "i, se, att, st, en =  getBatch(bs=3)\n",
    "print(i.size(), se.size(), st.size(), en.size())"
   ]
  },
  {
   "cell_type": "code",
   "execution_count": 6,
   "metadata": {
    "ExecuteTime": {
     "end_time": "2019-04-11T09:20:38.185747Z",
     "start_time": "2019-04-11T09:20:38.178991Z"
    }
   },
   "outputs": [],
   "source": [
    "class SQuADHead(torch.nn.Module):\n",
    "    def __init__(self, \n",
    "                num_bert_layers=1,\n",
    "                backprop_thru_bert=False,\n",
    "                internal_dim = 256                \n",
    "                ):\n",
    "        super(SQuADHead, self).__init__()\n",
    "        self.bert = BertModel.from_pretrained(\"bert-base-uncased\").cuda()\n",
    "        self.out = torch.nn.Linear(768,2)\n",
    "        self.dropout = torch.nn.Dropout(0.1)\n",
    "    \n",
    "    def forward(self, inputs, segments, attention_masks):\n",
    "        f, _ = self.bert(inputs, segments, attention_masks, output_all_encoded_layers=False)\n",
    "        out_ = self.out(self.dropout(f))\n",
    "        start_, end_ = torch.split(out_, 1, dim=-1)\n",
    "        return start_.squeeze(), end_.squeeze()"
   ]
  },
  {
   "cell_type": "code",
   "execution_count": 7,
   "metadata": {
    "ExecuteTime": {
     "end_time": "2019-04-11T11:50:03.763932Z",
     "start_time": "2019-04-11T09:20:38.967616Z"
    }
   },
   "outputs": [
    {
     "name": "stdout",
     "output_type": "stream",
     "text": [
      "Epoch: 1 Batch: 3059 Start Loss: 6.24475 End Loss: 6.24412\r"
     ]
    },
    {
     "ename": "KeyboardInterrupt",
     "evalue": "",
     "output_type": "error",
     "traceback": [
      "\u001b[0;31m---------------------------------------------------------------------------\u001b[0m",
      "\u001b[0;31mKeyboardInterrupt\u001b[0m                         Traceback (most recent call last)",
      "\u001b[0;32m<ipython-input-7-283467fff2f9>\u001b[0m in \u001b[0;36m<module>\u001b[0;34m\u001b[0m\n\u001b[1;32m     24\u001b[0m                   \"End Loss:\", np.round(np.mean(end_losses), 5), end=\"\\r\")\n\u001b[1;32m     25\u001b[0m \u001b[0;34m\u001b[0m\u001b[0m\n\u001b[0;32m---> 26\u001b[0;31m \u001b[0mTrain\u001b[0m\u001b[0;34m(\u001b[0m\u001b[0mmodel\u001b[0m\u001b[0;34m)\u001b[0m\u001b[0;34m\u001b[0m\u001b[0m\n\u001b[0m",
      "\u001b[0;32m<ipython-input-7-283467fff2f9>\u001b[0m in \u001b[0;36mTrain\u001b[0;34m(network, epochs, batches_per_epoch, bs)\u001b[0m\n\u001b[1;32m     15\u001b[0m             \u001b[0mstart_losses\u001b[0m\u001b[0;34m.\u001b[0m\u001b[0mappend\u001b[0m\u001b[0;34m(\u001b[0m\u001b[0mloss1\u001b[0m\u001b[0;34m.\u001b[0m\u001b[0mdata\u001b[0m\u001b[0;34m.\u001b[0m\u001b[0mitem\u001b[0m\u001b[0;34m(\u001b[0m\u001b[0;34m)\u001b[0m\u001b[0;34m)\u001b[0m\u001b[0;34m\u001b[0m\u001b[0m\n\u001b[1;32m     16\u001b[0m             \u001b[0mend_losses\u001b[0m\u001b[0;34m.\u001b[0m\u001b[0mappend\u001b[0m\u001b[0;34m(\u001b[0m\u001b[0mloss2\u001b[0m\u001b[0;34m.\u001b[0m\u001b[0mdata\u001b[0m\u001b[0;34m.\u001b[0m\u001b[0mitem\u001b[0m\u001b[0;34m(\u001b[0m\u001b[0;34m)\u001b[0m\u001b[0;34m)\u001b[0m\u001b[0;34m\u001b[0m\u001b[0m\n\u001b[0;32m---> 17\u001b[0;31m             \u001b[0mloss1\u001b[0m\u001b[0;34m.\u001b[0m\u001b[0mbackward\u001b[0m\u001b[0;34m(\u001b[0m\u001b[0mretain_graph\u001b[0m\u001b[0;34m=\u001b[0m\u001b[0;32mTrue\u001b[0m\u001b[0;34m)\u001b[0m\u001b[0;34m\u001b[0m\u001b[0m\n\u001b[0m\u001b[1;32m     18\u001b[0m             \u001b[0mloss2\u001b[0m\u001b[0;34m.\u001b[0m\u001b[0mbackward\u001b[0m\u001b[0;34m(\u001b[0m\u001b[0;34m)\u001b[0m\u001b[0;34m\u001b[0m\u001b[0m\n\u001b[1;32m     19\u001b[0m             \u001b[0moptimizer\u001b[0m\u001b[0;34m.\u001b[0m\u001b[0mstep\u001b[0m\u001b[0;34m(\u001b[0m\u001b[0;34m)\u001b[0m\u001b[0;34m\u001b[0m\u001b[0m\n",
      "\u001b[0;32m~/miniconda3/envs/ml/lib/python3.5/site-packages/torch/tensor.py\u001b[0m in \u001b[0;36mbackward\u001b[0;34m(self, gradient, retain_graph, create_graph)\u001b[0m\n\u001b[1;32m    100\u001b[0m                 \u001b[0mproducts\u001b[0m\u001b[0;34m.\u001b[0m \u001b[0mDefaults\u001b[0m \u001b[0mto\u001b[0m\u001b[0;31m \u001b[0m\u001b[0;31m`\u001b[0m\u001b[0;31m`\u001b[0m\u001b[0;32mFalse\u001b[0m\u001b[0;31m`\u001b[0m\u001b[0;31m`\u001b[0m\u001b[0;34m.\u001b[0m\u001b[0;34m\u001b[0m\u001b[0m\n\u001b[1;32m    101\u001b[0m         \"\"\"\n\u001b[0;32m--> 102\u001b[0;31m         \u001b[0mtorch\u001b[0m\u001b[0;34m.\u001b[0m\u001b[0mautograd\u001b[0m\u001b[0;34m.\u001b[0m\u001b[0mbackward\u001b[0m\u001b[0;34m(\u001b[0m\u001b[0mself\u001b[0m\u001b[0;34m,\u001b[0m \u001b[0mgradient\u001b[0m\u001b[0;34m,\u001b[0m \u001b[0mretain_graph\u001b[0m\u001b[0;34m,\u001b[0m \u001b[0mcreate_graph\u001b[0m\u001b[0;34m)\u001b[0m\u001b[0;34m\u001b[0m\u001b[0m\n\u001b[0m\u001b[1;32m    103\u001b[0m \u001b[0;34m\u001b[0m\u001b[0m\n\u001b[1;32m    104\u001b[0m     \u001b[0;32mdef\u001b[0m \u001b[0mregister_hook\u001b[0m\u001b[0;34m(\u001b[0m\u001b[0mself\u001b[0m\u001b[0;34m,\u001b[0m \u001b[0mhook\u001b[0m\u001b[0;34m)\u001b[0m\u001b[0;34m:\u001b[0m\u001b[0;34m\u001b[0m\u001b[0m\n",
      "\u001b[0;32m~/miniconda3/envs/ml/lib/python3.5/site-packages/torch/autograd/__init__.py\u001b[0m in \u001b[0;36mbackward\u001b[0;34m(tensors, grad_tensors, retain_graph, create_graph, grad_variables)\u001b[0m\n\u001b[1;32m     88\u001b[0m     Variable._execution_engine.run_backward(\n\u001b[1;32m     89\u001b[0m         \u001b[0mtensors\u001b[0m\u001b[0;34m,\u001b[0m \u001b[0mgrad_tensors\u001b[0m\u001b[0;34m,\u001b[0m \u001b[0mretain_graph\u001b[0m\u001b[0;34m,\u001b[0m \u001b[0mcreate_graph\u001b[0m\u001b[0;34m,\u001b[0m\u001b[0;34m\u001b[0m\u001b[0m\n\u001b[0;32m---> 90\u001b[0;31m         allow_unreachable=True)  # allow_unreachable flag\n\u001b[0m\u001b[1;32m     91\u001b[0m \u001b[0;34m\u001b[0m\u001b[0m\n\u001b[1;32m     92\u001b[0m \u001b[0;34m\u001b[0m\u001b[0m\n",
      "\u001b[0;31mKeyboardInterrupt\u001b[0m: "
     ]
    }
   ],
   "source": [
    "model = SQuADHead().cuda()\n",
    "loss = torch.nn.NLLLoss()\n",
    "optimizer = torch.optim.Adam(model.parameters(), lr=0.001)\n",
    "\n",
    "def Train(network, epochs=10, batches_per_epoch=10000, bs=4):\n",
    "    start_losses = []\n",
    "    end_losses = []\n",
    "    for j in range(epochs):\n",
    "        for k in range(batches_per_epoch):\n",
    "            i, se, att, st, en = getBatch(bs=bs)\n",
    "            st_, en_ = model.forward(i, se, att)\n",
    "            optimizer.zero_grad()\n",
    "            loss1 = loss(F.log_softmax(st_, dim=-1), st)\n",
    "            loss2 = loss(F.log_softmax(en_, dim=-1), en)\n",
    "            start_losses.append(loss1.data.item())\n",
    "            end_losses.append(loss2.data.item())\n",
    "            loss1.backward(retain_graph=True)\n",
    "            loss2.backward()\n",
    "            optimizer.step()\n",
    "            start_losses = start_losses[-1000:]\n",
    "            end_losses = end_losses[-1000:]\n",
    "            print(\"Epoch:\", j, \"Batch:\", k, \n",
    "                  \"Start Loss:\", np.round(np.mean(start_losses), 5), \n",
    "                  \"End Loss:\", np.round(np.mean(end_losses), 5), end=\"\\r\")\n",
    "\n",
    "Train(model)"
   ]
  },
  {
   "cell_type": "code",
   "execution_count": null,
   "metadata": {
    "ExecuteTime": {
     "end_time": "2019-04-11T08:16:54.525732Z",
     "start_time": "2019-04-11T08:16:54.521558Z"
    }
   },
   "outputs": [],
   "source": [
    "print(start_losses)"
   ]
  },
  {
   "cell_type": "code",
   "execution_count": null,
   "metadata": {},
   "outputs": [],
   "source": []
  }
 ],
 "metadata": {
  "kernelspec": {
   "display_name": "Python 3",
   "language": "python",
   "name": "python3"
  },
  "language_info": {
   "codemirror_mode": {
    "name": "ipython",
    "version": 3
   },
   "file_extension": ".py",
   "mimetype": "text/x-python",
   "name": "python",
   "nbconvert_exporter": "python",
   "pygments_lexer": "ipython3",
   "version": "3.5.6"
  }
 },
 "nbformat": 4,
 "nbformat_minor": 2
}
