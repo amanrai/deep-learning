{
 "cells": [
  {
   "cell_type": "code",
   "execution_count": null,
   "metadata": {
    "ExecuteTime": {
     "end_time": "2019-05-01T06:45:18.766023Z",
     "start_time": "2019-05-01T06:45:18.761152Z"
    }
   },
   "outputs": [],
   "source": [
    "import csv"
   ]
  },
  {
   "cell_type": "code",
   "execution_count": 2,
   "metadata": {
    "ExecuteTime": {
     "end_time": "2019-05-01T06:45:20.444453Z",
     "start_time": "2019-05-01T06:45:19.198758Z"
    }
   },
   "outputs": [],
   "source": [
    "from pytorch_pretrained_bert import BertTokenizer\n",
    "tokenizer = BertTokenizer.from_pretrained('bert-base-uncased')"
   ]
  },
  {
   "cell_type": "code",
   "execution_count": 3,
   "metadata": {
    "ExecuteTime": {
     "end_time": "2019-05-01T06:45:22.376606Z",
     "start_time": "2019-05-01T06:45:22.373275Z"
    }
   },
   "outputs": [],
   "source": [
    "training_path = \"../../../Data/jigsaw/train.csv\""
   ]
  },
  {
   "cell_type": "code",
   "execution_count": 4,
   "metadata": {
    "ExecuteTime": {
     "end_time": "2019-05-01T06:45:38.531397Z",
     "start_time": "2019-05-01T06:45:23.663386Z"
    }
   },
   "outputs": [
    {
     "name": "stdout",
     "output_type": "stream",
     "text": [
      "['id', 'target', 'comment_text', 'severe_toxicity', 'obscene', 'identity_attack', 'insult', 'threat', 'asian', 'atheist', 'bisexual', 'black', 'buddhist', 'christian', 'female', 'heterosexual', 'hindu', 'homosexual_gay_or_lesbian', 'intellectual_or_learning_disability', 'jewish', 'latino', 'male', 'muslim', 'other_disability', 'other_gender', 'other_race_or_ethnicity', 'other_religion', 'other_sexual_orientation', 'physical_disability', 'psychiatric_or_mental_illness', 'transgender', 'white', 'created_date', 'publication_id', 'parent_id', 'article_id', 'rating', 'funny', 'wow', 'sad', 'likes', 'disagree', 'sexual_explicit', 'identity_annotator_count', 'toxicity_annotator_count']\n"
     ]
    }
   ],
   "source": [
    "import csv\n",
    "lines = []\n",
    "headers = None\n",
    "data = []\n",
    "with open(training_path, \"r\") as f:\n",
    "    reader = csv.reader(f, delimiter=\",\")\n",
    "    count = 0\n",
    "    for row in reader:\n",
    "        if (count ==0):\n",
    "            headers = row\n",
    "            print(headers)\n",
    "        else:\n",
    "            entry = zip(headers, row)\n",
    "            entry = dict(entry)\n",
    "            data.append(entry)\n",
    "        count += 1"
   ]
  },
  {
   "cell_type": "code",
   "execution_count": 5,
   "metadata": {
    "ExecuteTime": {
     "end_time": "2019-05-01T07:09:59.021819Z",
     "start_time": "2019-05-01T06:45:51.687086Z"
    }
   },
   "outputs": [],
   "source": [
    "positives = []\n",
    "negatives = []\n",
    "for i in range(len(data)):\n",
    "    if (float(data[i][\"target\"]) >= 0.5):\n",
    "        positives.append(i)\n",
    "    else:\n",
    "        negatives.append(i)\n",
    "    data[i][\"comment_text\"] = tokenizer.tokenize(data[i][\"comment_text\"])"
   ]
  },
  {
   "cell_type": "code",
   "execution_count": 6,
   "metadata": {
    "ExecuteTime": {
     "end_time": "2019-05-01T14:50:54.745125Z",
     "start_time": "2019-05-01T14:50:54.741644Z"
    }
   },
   "outputs": [],
   "source": [
    "_d = {\n",
    "    \"all_data\":data,\n",
    "    \"positives\":positives,\n",
    "    \"negatives\":negatives\n",
    "}"
   ]
  },
  {
   "cell_type": "code",
   "execution_count": 7,
   "metadata": {
    "ExecuteTime": {
     "end_time": "2019-05-01T14:52:53.597436Z",
     "start_time": "2019-05-01T14:52:07.565446Z"
    }
   },
   "outputs": [],
   "source": [
    "import pickle\n",
    "pickle.dump(_d, open(\"../../../Data/jigsaw/training_processed.pickle\", \"wb\"))"
   ]
  },
  {
   "cell_type": "code",
   "execution_count": 14,
   "metadata": {
    "ExecuteTime": {
     "end_time": "2019-05-01T15:04:20.621981Z",
     "start_time": "2019-05-01T15:04:19.977516Z"
    }
   },
   "outputs": [],
   "source": [
    "lens = []\n",
    "for i in range(len(data)):\n",
    "    lens.append(len(data[i][\"comment_text\"]))"
   ]
  },
  {
   "cell_type": "code",
   "execution_count": 17,
   "metadata": {
    "ExecuteTime": {
     "end_time": "2019-05-01T15:04:42.503089Z",
     "start_time": "2019-05-01T15:04:42.477876Z"
    }
   },
   "outputs": [
    {
     "name": "stdout",
     "output_type": "stream",
     "text": [
      "['this', 'is', 'so', 'cool', '.', 'it', \"'\", 's', 'like', ',', \"'\", 'would', 'you', 'want', 'your', 'mother', 'to', 'read', 'this', '?', '?', \"'\", 'really', 'great', 'idea', ',', 'well', 'done', '!']\n",
      "['thank', 'you', '!', '!', 'this', 'would', 'make', 'my', 'life', 'a', 'lot', 'less', 'anxiety', '-', 'inducing', '.', 'keep', 'it', 'up', ',', 'and', 'don', \"'\", 't', 'let', 'anyone', 'get', 'in', 'your', 'way', '!']\n",
      "['this', 'is', 'such', 'an', 'urgent', 'design', 'problem', ';', 'ku', '##dos', 'to', 'you', 'for', 'taking', 'it', 'on', '.', 'very', 'impressive', '!']\n",
      "['is', 'this', 'something', 'i', \"'\", 'll', 'be', 'able', 'to', 'install', 'on', 'my', 'site', '?', 'when', 'will', 'you', 'be', 'releasing', 'it', '?']\n",
      "['ha', '##ha', 'you', 'guys', 'are', 'a', 'bunch', 'of', 'losers', '.']\n",
      "['ur', 'a', 'sh', '*', 'tt', '##y', 'comment', '.']\n",
      "['ha', '##ha', '##ha', '##ha', '##ha', '##ha', '##ha', '##hh', '##ha', 'suck', 'it', '.']\n",
      "['ff', '##ff', '##u', '##u', '##u', '##u', '##u', '##u', '##u', '##u', '##u', '##u', '##u', '##u', '##u', '##u', '##u']\n",
      "['the', 'ranch', '##ers', 'seem', 'motivated', 'by', 'mostly', 'by', 'greed', ';', 'no', 'one', 'should', 'have', 'the', 'right', 'to', 'allow', 'their', 'animals', 'destroy', 'public', 'land', '.']\n",
      "['it', 'was', 'a', 'great', 'show', '.', 'not', 'a', 'combo', 'i', \"'\", 'd', 'of', 'expected', 'to', 'be', 'good', 'together', 'but', 'it', 'was', '.']\n",
      "['wow', ',', 'that', 'sounds', 'great', '.']\n",
      "['this', 'is', 'a', 'great', 'story', '.', 'man', '.', 'i', 'wonder', 'if', 'the', 'person', 'who', 'yelled', '\"', 'shut', 'the', 'fuck', 'up', '!', '\"', 'at', 'him', 'ever', 'heard', 'it', '.']\n",
      "['this', 'seems', 'like', 'a', 'step', 'in', 'the', 'right', 'direction', '.']\n",
      "['it', \"'\", 's', 'ridiculous', 'that', 'these', 'guys', 'are', 'being', 'called', '\"', 'protesters', '\"', '.', 'being', 'armed', 'is', 'a', 'threat', 'of', 'violence', ',', 'which', 'makes', 'them', 'terrorists', '.']\n",
      "['this', 'story', 'gets', 'more', 'ridiculous', 'by', 'the', 'hour', '!', 'and', ',', 'i', 'love', 'that', 'people', 'are', 'sending', 'these', 'guys', 'dil', '##dos', 'in', 'the', 'mail', 'now', '.', 'but', '…', 'if', 'they', 'really', 'think', 'there', \"'\", 's', 'a', 'happy', 'ending', 'in', 'this', 'for', 'any', 'of', 'them', ',', 'i', 'think', 'they', \"'\", 're', 'even', 'more', 'del', '##uded', 'than', 'all', 'of', 'the', 'jokes', 'about', 'them', 'assume', '.']\n",
      "['i', 'agree', ';', 'i', 'don', \"'\", 't', 'want', 'to', 'grant', 'them', 'the', 'legitimacy', 'of', 'protest', '##ors', '.', 'they', \"'\", 're', 'greedy', ',', 'small', '-', 'minded', 'people', 'who', 'somehow', 'seem', 'to', 'share', 'the', 'mass', 'del', '##usion', 'that', 'this', 'is', 'not', 'only', 'a', 'good', 'idea', 'for', 'themselves', 'as', 'individuals', ',', 'but', 'is', 'the', 'right', 'thing', 'to', 'do', 'for', 'ranch', '##ers', 'at', 'large', '.', 'basically', ':', 'take', 'something', 'that', 'currently', 'belongs', 'to', 'everyone', ',', 'and', 'give', 'it', 'to', 'a', 'select', 'group', 'of', 'people', ',', 'so', 'they', 'can', 'profit', '.']\n",
      "['interesting', '.', 'i', \"'\", 'll', 'be', 'curious', 'to', 'see', 'how', 'this', 'works', 'out', '.', 'i', 'often', 'refrain', 'from', 'commenting', 'because', 'i', 'don', \"'\", 't', 'have', 'the', 'time', 'or', 'desire', 'to', 'engage', 'with', 'the', 'couple', 'of', 'resident', 'trolls', 'who', 'seem', 'to', 'jump', 'on', 'every', 'active', 'w', '##w', 'comment', 'thread', '.']\n",
      "['awesome', '!', 'i', 'love', 'civil', 'comments', '!']\n",
      "['i', \"'\", 'm', 'glad', 'you', \"'\", 're', 'working', 'on', 'this', ',', 'and', 'i', 'look', 'forward', 'to', 'seeing', 'how', 'it', 'plays', 'out', '.', 'the', 'comments', 'sections', 'of', 'online', 'news', 'stories', 'have', 'the', 'potential', 'to', 'be', 'great', 'tools', 'for', 'community', 'interaction', 'about', 'current', 'events', ',', 'a', 'neo', 'town', 'hall', ',', 'of', 'sorts', '.', 'one', 'of', 'the', 'reasons', 'i', 'rely', 'on', 'red', '##dit', 'as', 'a', 'platform', 'for', 'news', 'and', 'local', 'discussions', 'is', 'that', 'there', \"'\", 's', 'a', 'sense', 'of', 'community', 'interaction', 'that', \"'\", 's', 'often', 'lacking', 'in', 'my', '\"', 'real', 'life', ',', '\"', 'he', '##ctic', 'discussions', '.', 'but', 'hopefully', 'we', 'won', \"'\", 't', 'be', 'tempted', 'to', 'silence', 'those', 'who', 'take', 'unpopular', 'stance', '##s', '.']\n",
      "['angry', 'trolls', ',', 'mis', '##ogy', '##nist', '##s', 'and', 'racist', '##s', '\"', ',', 'oh', 'my', '.', 'it', 'doesn', \"'\", 't', 'take', 'all', 'of', 'my', '150', 'iq', 'to', 'see', 'the', 'slant', 'here', '.', 'it', \"'\", 's', 'the', '\"', 'diversity', 'di', '##ode', '\"', 'at', 'work', 'yet', 'again', '.', '\"', 'we', 'can', 'say', 'anything', 'that', 'we', 'want', 'because', 'we', 'are', 'diversity', '.', 'you', 'on', 'the', 'other', 'hand', 'must', 'only', 'say', 'what', 'we', 'allow', 'you', 'to', 'say', '.', 'from', 'now', 'on', ',', 'winning', 'arguments', 'against', 'any', 'member', 'of', 'diversity', 'will', 'be', 'considered', 'offensive', 'language', '.', 'facts', ',', 'co', '##gent', ',', 'linear', 'posts', 'and', 'math', 'are', 'now', 'verb', '##ote', '##n', '.']\n",
      "['nice', 'to', 'some', 'attempts', 'to', 'try', 'to', 'make', 'comments', 'better', '—', 'it', 'feels', 'like', 'any', 'innovation', 'in', 'commenting', 'communities', 'ended', 'with', 'the', 'launch', 'of', 'di', '##s', '##qu', '##s', 'nearly', 'a', 'decade', 'ago', '.']\n",
      "['one', 'would', 'hope', 'that', 'the', 'purpose', 'of', 'introducing', 'this', 'system', 'is', 'to', 'encourage', 'more', 'debate', 'and', 'discussion', ',', 'not', 'less', '.', 'it', 'seems', 'there', 'are', 'several', 'things', 'that', 'limit', 'the', 'flow', 'of', 'discussion', ':', 'making', 'comments', 'that', 'are', 'personal', 'attacks', 'or', 'encouraging', 'witch', 'hunts', ';', 'true', 'spa', '##m', '(', 'which', 'has', 'been', 'a', 'real', 'problem', 'on', 'w', '##w', \"'\", 's', 'comment', 'section', ',', 'in', 'my', 'experience', ')', ';', 'and', 'chasing', 'rabbits', 'to', 'draw', 'discussions', 'away', 'from', 'the', 'primary', 'subject', 'at', 'hand', '.', 'i', ',', 'for', 'one', ',', 'don', \"'\", 't', 'want', 'to', 'see', 'unpopular', 'opinions', 'silenced', '.', 'healthy', 'debate', 'is', 'an', 'important', 'component', 'of', 'a', 'civil', 'society', '.', 'but', 'when', 'discussions', 'de', '##gen', '##erate', 'into', 'insults', 'and', 'distraction', ',', 'it', 'actually', 'limits', 'the', 'ability', 'of', 'people', 'to', 'talk', 'with', 'each', 'other', '.', 'i', \"'\", 'm', 'believing', 'that', 'this', 'is', 'the', 'intention', 'of', 'your', 'newspaper', 'here', ',', 'and', 'i', 'hope', 'it', \"'\", 's', 'a', 'movement', 'that', 'results', 'in', 'more', ',', 'not', 'less', ',', 'commentary', 'on', 'current', 'events', '.', 'we', 'need', 'it', '.']\n",
      "['comments', 'will', 'be', 'randomly', 'chosen', 'and', 'be', 'reviewed', 'by', 'more', 'than', 'one', 'person', '.', 'but', 'i', 'bet', 'the', 'civil', 'people', 'have', 'an', 'even', 'better', ',', 'more', 'thorough', 'answer', 'to', 'this', 'question', '!']\n",
      "['she', 'would', 'be', 'a', 'major', 'improvement', 'for', 'city', 'council', 'and', 'she', 'has', 'a', 'long', 'history', 'of', 'giving', 'all', 'citizens', 'a', 'voice', '.', 'she', 'is', 'a', 'problem', 'solve', '##r', 'that', 'is', 'what', 'portland', 'needs', '.']\n",
      "['i', 'agree', '!', 'comments', 'have', 'so', 'much', 'potential', 'to', 'be', 'places', 'for', 'active', 'discussion', ',', 'especially', 'in', 'publications', 'that', 'already', 'serve', 'an', 'amazing', 'community', '(', 'but', 'then', ',', 'i', \"'\", 'm', 'biased', '—', 'i', \"'\", 'm', 'a', 'civil', 'co', '-', 'founder', ')', '.', 'we', \"'\", 've', 'worked', 'hard', 'to', 'make', 'sure', 'that', 'the', 'comments', 'section', 'won', \"'\", 't', 'become', 'an', 'echo', 'chamber', ',', 'though', ',', 'by', 'combining', 'clever', 'algorithms', 'on', 'the', 'back', '##end', 'with', 'the', 'peer', 'reviews', '.', 'that', \"'\", 's', 'also', 'why', 'there', 'are', 'two', 'separate', 'questions', ':', '\"', 'is', 'this', 'a', '*', 'good', '*', 'comment', '?', '\"', 'and', '\"', 'is', 'this', 'comment', 'civil', '?', '\"']\n",
      "['great', 'question', '!', 'it', \"'\", 's', 'one', 'we', \"'\", 're', 'asked', 'a', 'lot', '.', 'we', \"'\", 've', 'designed', 'the', 'system', 'assuming', 'that', 'people', '*', 'will', '*', 'try', 'to', 'abuse', 'it', '.', 'so', ',', 'in', 'addition', 'to', 'the', 'peer', 'reviews', ',', 'there', 'are', 'algorithms', 'on', 'the', 'back', '##end', 'doing', 'a', 'lot', 'of', 'meta', '-', 'analysis', '.', 'i', \"'\", 'm', 'sure', 'the', 'system', 'isn', \"'\", 't', '100', '%', 'perfect', 'yet', ',', 'but', 'we', 'know', 'from', 'months', 'of', 'beta', 'testing', 'that', 'it', \"'\", 's', 'a', 'really', 'solid', 'start', ',', 'and', 'we', \"'\", 'll', 'keep', 'working', 'to', 'improve', 'it', '!']\n",
      "['thanks', ',', 'christ', '##a', '!', 'will', 'you', 'be', 'adding', 'any', 'features', 'to', 'allow', 'overall', '\"', 'up', '##vot', '##es', '\"', 'of', 'the', 'article', 'itself', '?', 'also', ',', 'notification', 'settings', 'for', 'users', '?']\n",
      "['our', 'aim', 'is', 'actually', 'the', 'opposite', ':', 'we', 'want', 'spirited', 'debate', 'in', 'which', 'everyone', 'feels', 'free', 'to', 'participate', ',', 'without', 'fear', 'of', 'harassment', ',', 'abuse', ',', 'or', 'death', 'threats', '.', 'right', 'now', ',', 'a', 'lot', 'of', 'voices', 'are', 'being', 'silenced', 'due', 'to', 'that', 'fear', '.', 'we', 'designed', 'civil', 'comments', 'for', 'civil', ',', 'respectful', 'discussion', 'and', 'debate', '—', 'we', 'don', \"'\", 't', 'want', 'it', 'to', 'become', 'a', '\"', 'positive', 'comments', 'only', '\"', 'echo', 'chamber', '.', 'there', \"'\", 's', 'a', 'lot', 'going', 'on', 'on', 'the', 'back', '##end', 'to', 'prevent', 'abuse', 'of', 'the', 'system', '.', 'so', ',', 'everyone', 'is', 'free', 'to', 'speak', 'their', 'mind', ',', 'even', 'if', 'their', 'opinion', 'is', 'unpopular', '—', 'so', 'long', 'as', 'they', 'treat', 'each', 'other', 'with', 'respect', '.']\n",
      "['thanks', '!', 'we', \"'\", 're', 'really', 'going', 'to', 'try', '—', 'not', 'only', 'to', 'improve', 'civil', '##ity', ',', 'but', 'also', 'to', 'make', 'comments', 'more', 'dynamic', 'and', 'interesting', '.']\n",
      "['i', 'app', '##lau', '##d', 'civil', \"'\", 's', 'efforts', 'to', 'create', 'some', 'new', 'technology', 'in', 'this', 'field', '.', 'hoping', 'for', 'more', 'thoughtful', 'discussions', 'moving', 'forward', '.']\n",
      "['why', 'bother', 'writing', 'a', 'review', 'if', 'it', \"'\", 's', 'going', 'to', 'be', 'this', 'devoid', 'of', 'content', '?', 'i', 'understand', 'that', 'you', 'work', 'for', 'w', '##w', '.', '(', 'but', 'that', 'hardly', 'seems', 'like', 'an', 'excuse', 'when', 'fred', 'arm', '##isen', 'recorded', 'radio', 'voices', 'for', 'grand', 'theft', 'auto', 'iv', 'with', 'the', 'same', 'number', 'of', 'people', '.', ')']\n",
      "['yet', 'call', 'out', 'all', 'muslims', 'for', 'the', 'acts', 'of', 'a', 'few', 'will', 'get', 'you', 'pill', '##ori', '##ed', '.', 'so', 'why', 'is', 'it', 'okay', 'to', 'sm', '##ear', 'an', 'entire', 'religion', 'over', 'these', 'few', 'idiots', '?', 'or', 'is', 'this', 'because', 'it', \"'\", 's', 'okay', 'to', 'bash', 'christian', 'sect', '##s', '?']\n",
      "['i', 'love', 'the', 'idea', 'of', 'up', '##vot', '##ing', 'entire', 'articles', ',', 'though', 'this', 'would', 'have', 'to', 'be', 'something', 'that', 'the', 'publisher', 'could', 'turn', 'on', 'and', 'off', '.', 'we', 'do', 'have', 'a', 'ton', 'of', 'other', 'features', 'currently', 'in', 'the', 'works', '—', 'following', '(', 'and', 'blocking', '!', ')', 'other', 'users', ',', 'book', '##mark', '##ing', 'articles', 'during', 'the', 'review', 'process', ',', 'to', 'read', 'later', '(', 'i', 'find', 'myself', 'wanting', 'to', 'read', 'the', 'articles', 'that', 'other', 'people', 'are', 'commenting', 'on', ',', 'as', 'i', \"'\", 'm', 'reviewing', 'their', 'comments', '!', ')', ',', 'following', 'conversations', ',', 'and', 'so', 'much', 'more', '.', 'thanks', 'for', 'your', 'enthusiasm', ',', 'melinda', ',', 'and', 'your', 'patience', '!', 'it', \"'\", 's', 'a', 'brand', '-', 'new', 'way', 'to', 'approach', 'comments', ',', 'and', 'we', \"'\", 're', 'going', 'to', 'continue', 'to', 'improve', 'it', '.', 'we', 'welcome', 'all', 'suggestions', 'and', 'feedback', '!']\n",
      "['troll', 'free', 'since', '2016', '.']\n",
      "['this', 'bitch', 'is', 'nuts', '.', 'who', 'would', 'read', 'a', 'book', 'by', 'a', 'woman', '.']\n",
      "['awesome', '!']\n",
      "['not', 'for', 'long', '!', '(', 'troll', '-', 'in', '-', 'training', 'since', '2016', ')']\n",
      "['commenting', 'for', 'the', 'sake', 'of', 'commenting', 'to', 'rate', 'other', 'comments', 'to', 'better', 'comment', 'on', 'our', 'new', 'comment', 'system', '.']\n",
      "['interesting', 'concept', '.', 'how', 'does', 'civil', 'comments', 'plan', 'to', 'mon', '##eti', '##ze', 'their', 'operation', '?']\n",
      "['pity', 'the', 'menu', 'lost', 'so', 'much', 'vega', '##n', 'food', '!', 'the', 'mas', '##h', 'tun', 'was', 'a', 'favorite', 'beer', 'bar', 'for', 'all', 'the', 'delicious', 'te', '##mp', '##eh', 'stuff', '.', 'excited', 'the', 'staff', 'is', 'still', 'there', ',', 'can', \"'\", 't', 'wait', 'to', 'try', 'the', 'new', 'beers', '.']\n",
      "['i', 'already', 'see', 'dozens', 'of', '\"', 'just', 'commenting', 'to', 'vote', 'on', 'comments', 'to', 'be', 'able', 'to', 'comment', '\"', 'type', 'of', 'comments', '.', 'this', 'voting', 'system', 'is', 'completely', 'insane', '-', 'you', \"'\", 're', 'assuming', 'people', 'have', 'the', 'extra', 'time', 'to', '*', 'actually', 'read', '*', 'multiple', 'non', 'related', 'comments', '?', 'i', 'would', 'love', 'to', 'see', 'this', 'system', 'installed', 'on', 'oregon', '##li', '##ve', '.', 'com', '-', 'they', 'have', 'enough', 'online', 'visitors', 'and', 'an', 'established', '\"', 'troll', '\"', 'base', 'to', 'really', 'need', 'this', 'service', '.', 'with', 'as', 'little', 'online', 'activity', 'as', 'wwe', '##ek', 'has', '-', 'it', 'will', 'discourage', 'further', 'growth', 'here', '.']\n",
      "['very', 'cool', 'project', '!']\n",
      "['awesome', '!', 'signed', 'up', 'just', 'to', 'give', 'this', 'a', 'shot', '.', '.', '.', 'good', 'luck', 'to', 'your', 'enterprise', '!']\n",
      "['di', '##s', '##qu', '##s', 'has', 'way', 'more', 'functionality', 'and', 'obviously', 'a', 'huge', 'following', '-', 'it', 'can', 'increase', 'visitor', 'count', 'significantly', '.', 'di', '##s', '##qu', '##s', 'also', 'has', 'a', 'moderator', 'feature', '-', 'a', 'feature', 'that', 'wwe', '##ek', 'either', 'never', 'wanted', 'to', 'pay', 'their', 'staff', 'to', 'undertake', ',', 'or', 'never', 'developed', 'a', 'group', 'of', 'people', 'they', 'could', 'trust', 'to', 'do', 'it', 'on', 'their', 'behalf', 'on', 'a', 'volunteer', 'basis', '.']\n",
      "['yet', 'another', 'barack', 'obama', 'liberal', 'media', 'conspiracy', 'by', 'the', 'thought', 'control', 'police', '.', 'i', 'did', '##ent', 'spend', '30', 'years', 'mixing', 'concrete', 'to', 'let', 'america', 'fall', 'to', 'the', 'com', '##mies', '.', 'the', 'taxes', 'here', 'are', 'so', 'high', 'i', 'can', '##t', 'even', 'afford', 'a', 'keyboard', 'with', 'a', 'working', 'caps', 'lock', '.', 'portland', 'has', 'been', 'going', 'downhill', 'for', 'years', ',', 'no', 'wonder', 'the', 'tea', 'party', 'is', 'making', 'a', 'comeback', '.', 'what', '##s', 'next', 'flour', '##aid', '##e', 'in', 'the', 'water', 'supply', '?']\n",
      "['i', 'haven', \"'\", 't', 'seen', 'the', 'kind', 'of', 'comments', 'you', \"'\", 're', 'mentioning', '.', 'i', \"'\", 'm', 'interested', 'in', 'where', 'this', 'system', 'works', 'and', 'where', 'it', \"'\", 's', 'having', 'problems', '.', 'do', 'you', 'have', 'a', 'link', 'you', 'could', 'share', 'that', 'has', 'comments', 'like', 'you', 'mentioned', '?']\n",
      "['i', \"'\", 'm', 'crazy', 'about', 'that', 'illustration', '!', 'i', 'never', 'would', 'have', 'thought', 'to', 'pitch', 'everything', 'so', 'yellow', 'and', 'orange', '.']\n",
      "['w', '##mc', '##el', '##ha', ',', 'there', 'are', 'several', 'new', 'and', 'exciting', 'vega', '##n', 'and', 'g', '##lu', '##ten', 'free', 'options', 'on', 'the', 'new', 'menu', '!', 'buffalo', 'to', '##stones', 'are', 'a', 'fun', ',', 'vega', '##n', ',', 'g', '##lu', '##ten', 'free', ',', 'soy', 'free', 'option', '.', 'not', 'to', 'mention', 'a', 'killer', 'new', 've', '##gg', '##ie', 'burger', ',', 'vega', '##n', 'ta', '##cos', ',', 'and', 'several', 'nice', 'salad', '##s', '.', 'hope', 'to', 'see', 'you', 'there', 'soon', '!']\n",
      "['thank', 'you', ',', 'thank', 'you', ',', 'thank', 'you', '!', 'i', 'love', 'w', '##w', 'content', 'but', 'the', 'comment', 'section', 'has', 'poll', '##uted', 'for', 'far', 'too', 'long', '.', 'the', 'lack', 'of', 'community', 'mode', '##ration', 'gave', 'a', 'loud', 'mega', '##phone', 'to', 'a', 'small', 'number', 'of', 'right', 'wing', 'trolls', '.']\n",
      "['probably', 'because', 'they', 'consistently', 'waste', 'funds', 'on', 'trend', '##y', 'projects', 'like', 'green', 'bike', 'boxes', '-', '-', 'which', 'cost', 'a', 'fortune', 'and', 'have', 'to', 'be', 'rep', '##aint', '##ed', 'every', 'couple', 'of', 'years', '.', 'o', '##y', '.']\n",
      "['the', 'system', 'is', 'set', 'up', 'so', 'if', 'traffic', 'is', 'slow', ',', 'an', 'algorithm', 'takes', 'over', 'until', 'it', 'picks', 'up', '.']\n",
      "['because', 'the', 'people', 'who', 'drive', 'cars', 'more', 'are', 'the', 'ones', 'who', 'cause', 'more', 'wear', 'and', 'tear', 'on', 'the', 'roads', '?', 'pretty', 'fair', 'and', 'straightforward', '.']\n",
      "['affordable', 'housing', 'gets', 'built', 'pursuant', 'to', 'tax', '#', '3', ',', 'immediately', 'becomes', 'less', 'affordable', 'pursuant', 'to', 'tax', '#', '2', '.', 'brilliant', '!']\n",
      "['tried', 'this', 'out', 'on', 'another', 'post', '.', 'having', 'to', 'rate', 'three', 'other', 'comments', 'and', 'then', 'my', 'own', '-', 'is', 'the', 'lead', 'designer', 'a', 'big', 'f', '##ou', '##ca', '##ult', 'fan', '?', 'feels', 'like', 'pan', '##op', '##tic', '##om', '##ments', '.', 'i', 'suspect', 'you', 'won', \"'\", 't', 'go', 'back', ',', 'but', 'i', 'prefer', 'di', '##s', '##qu', '##s', 'because', 'of', 'the', 'u', '##bi', '##qui', '##ty', 'and', 'notification', '##s', 'system', '.']\n",
      "['\"', 'winning', 'arguments', 'against', 'any', 'member', 'of', 'diversity', '\"', 'you', 'may', 'have', 'inadvertently', 'given', 'civil', 'comments', 'an', 'idea', 'for', 'the', '2', '.', '0', 'version', 'of', 'their', 'system', '.', '1', '.', 'is', 'this', 'a', 'good', 'comment', '?', '2', '.', 'is', 'this', 'comment', 'civil', '?', '3', '.', 'did', 'this', 'comment', 'totally', 'just', 'win', 'the', 'argument', '?', '?', '?']\n",
      "['i', 'had', 'a', 'little', 'trouble', 'getting', 'signed', 'up', ',', 'but', 'after', 'a', 'brief', 'email', 'exchange', 'with', 'the', 'folks', 'at', 'civil', 'everything', 'appears', 'to', 'be', 'working', 'now', '.', 'if', 'they', \"'\", 're', 'successful', 'in', 'their', 'goal', ',', 'i', \"'\", 'll', 'be', 'extremely', 'pleased', '.']\n",
      "['are', 'you', 'tax', '##ed', 'as', 'a', 'resident', 'of', 'the', 'state', 'you', 'were', 'in', 'when', 'you', 'bought', 'the', 'ticket', ',', 'or', 'as', 'a', 'resident', 'of', 'the', 'state', 'you', 'are', 'in', 'when', 'you', 'claim', 'the', 'ticket', '?', 'if', 'it', \"'\", 's', 'the', 'latter', ',', 'i', 'suppose', 'a', 'theoretical', 'lucky', 'oregon', '##ian', 'will', 'have', 'to', 'decide', 'whether', 'it', \"'\", 's', 'worth', '$', '90', '##m', 'in', 'exchange', 'for', 'being', 'stuck', 'with', 'the', 'hated', '\"', 'california', '##n', '\"', 'moniker', '.']\n",
      "['the', 'letter', 'writing', 'campaign', 'to', 'get', 'livestock', 'off', 'of', 'mal', '##he', '##ur', 'refuge', 'started', 'in', 'the', 'late', \"'\", '70', \"'\", 's', '.', 'the', 'death', 'threat', 'phone', '##d', 'in', 'to', 'nancy', 'and', 'den', '##zel', \"'\", 's', 'home', 'was', 'in', '1979', ';', 'along', 'with', 'two', 'other', 'friends', 'i', 'was', 'hired', 'a', 'bodyguard', 'to', 'help', 'protect', 'n', '&', 'd', 'that', 'weekend', '.', 'the', 'hammond', \"'\", 's', 'e', '##ject', '##ion', 'of', 'the', 'ferguson', \"'\", 's', 'from', 'the', 'diamond', 'dance', 'was', 'the', 'year', 'or', 'two', 'before', 'the', 'death', 'threat', '.', 'great', 'article', 'w', '##w', 'and', 'jim', 'd', '.', 'for', 'the', 'last', '10', 'days', ',', 'lots', 'of', 'us', 'have', 'been', 'wishing', 'we', 'could', 'hear', 'den', '##zel', 'make', 'witty', 'qui', '##ps', 'about', 'the', 'bun', '##dy', '##con', \"'\", 's', 'occupation', 'of', 'the', 'refuge', 'hq', '.', 'sacred', 'cows', 'at', 'the', 'public', 'trough', 'is', 'easy', 'to', 'get', 'on', 'amazon', '.', 'read', 'and', 'learn', ',', 'read', 'and', 'learn', '.', '.', '.', 'great', 'history', 'of', 'western', 'livestock', 'abuses', '.', '.', '.']\n",
      "['mormon', '##s', 'have', 'had', 'a', 'complicated', 'relationship', 'with', 'federal', 'law', '.']\n",
      "['send', 'more', 'dil', '##dos', ',', 'stat', '.']\n",
      "['i', \"'\", 've', 'been', 'loosely', 'following', 'civil', 'comments', 'since', 'it', 'was', 'announced', 'late', 'last', 'year', ';', 'i', 'even', 'tried', 'a', 'beta', 'demonstration', '.', 'one', 'thing', 'i', \"'\", 've', 'been', 'wondering', 'is', ':', 'will', 'users', 'will', 'have', 'to', 'sign', 'up', 'for', 'new', 'profiles', 'on', 'any', 'site', 'that', 'uses', 'civil', ',', 'or', 'do', 'you', 'have', 'one', 'civil', 'profile', 'that', 'you', \"'\", 'd', 'use', 'on', 'any', 'partner', 'site', '?']\n",
      "['my', 'sign', '-', 'up', 'just', 'now', 'couldn', \"'\", 't', 'have', 'been', 'smooth', '##er', '!']\n",
      "['i', 'couldn', \"'\", 't', 'be', 'more', 'pleased', '.', 'comments', 'on', 'many', 'sites', 'too', 'often', 'get', 'over', '##taken', 'by', 'trolls', '.', 'it', \"'\", 's', 'the', 'first', 'i', \"'\", 've', 'heard', 'of', 'civil', ',', 'but', 'i', 'like', 'its', 'intent', 'and', 'encourage', 'other', 'publications', 'in', 'town', 'to', 'consider', 'comments', 'as', 'a', 'platform', 'for', 'engagement', 'rather', 'than', 'a', 'troll', '-', 'driven', 'click', 'driver', 'intended', 'to', 'boost', 'online', 'ad', 'rates', '.']\n",
      "['thanks', 'so', 'much', 'for', 'following', 'our', 'progress', 'and', 'helping', 'to', 'test', 'the', 'software', ',', 'david', '!', 'to', 'answer', 'your', 'question', ':', 'you', \"'\", 'll', 'have', 'one', 'over', '-', 'arching', 'civil', 'account', 'where', 'you', 'can', 'manage', 'different', 'profiles', 'for', 'different', 'sites', '.', 'of', 'course', ',', 'you', \"'\", 're', 'welcome', 'to', 'use', 'the', 'same', 'information', 'across', 'all', 'sites', '!', 'we', 'decided', 'that', 'it', \"'\", 'd', 'be', 'best', 'to', 'be', 'able', 'to', 'present', 'yourself', 'differently', 'to', 'different', 'communities', ',', 'though', '.', 'i', 'might', ',', 'for', 'example', ',', 'want', 'to', 'be', 'portland', '_', 'hips', '##ter', '##15', 'here', 'on', 'will', '##ame', '##tte', 'week', ',', 'but', 'prefer', 'to', 'be', 'mr', '##w', '##his', '##kers', 'on', 'cat', 'enthusiast', 'digest', '!']\n",
      "['enterprise', 'licenses', 'are', 'available', 'now', ',', 'and', 'we', \"'\", 'll', 'have', 'tier', '##ed', 'small', 'business', 'plans', 'available', 'very', 'soon', '!', 'we', 'will', 'also', 'have', 'a', 'free', ',', 'public', 'version', 'out', 'later', 'this', 'year', '.']\n",
      "['this', 'is', 'certainly', 'not', 'good', 'journalism', 'by', 'any', 'stretch', 'of', 'the', 'imagination', ',', 'but', 'they', 'are', 'words', ',', 'and', 'if', 'this', 'is', 'the', 'metric', 'by', 'which', 'will', '##ame', '##tte', 'week', 'chooses', 'to', 'publish', 'a', 'journalist', ',', 'then', 'by', 'all', 'means', 'publish', 'brace', 'bel', '##den', '.']\n",
      "['this', 'was', 'completely', 'fascinating', '.', 'but', 'it', 'left', 'me', 'with', 'a', 'question', 'i', 'haven', \"'\", 't', 'seen', 'reported', 'elsewhere', 'either', ':', 'these', 'guys', 'identify', 'as', 'ranch', '##ers', ',', 'so', 'who', 'are', 'their', 'customers', '?', 'what', 'are', 'the', 'economics', 'of', 'their', 'situation', '-', '-', 'are', 'they', 'in', 'the', 'same', 'situation', 'as', 'chicken', 'farmers', ',', 'where', 'they', 'have', 'had', 'their', 'livelihood', '##s', 'squeezed', 'away', '.', '.', '.', 'i', \"'\", 'd', 'like', 'to', 'understand', 'what', 'drives', 'someone', 'who', 'seems', 'to', 'have', 'so', 'much', 'to', 'be', 'so', 'alien', '##ated', ',', 'and', 'their', 'economic', 'situation', 'must', 'play', 'into', 'that', '.']\n",
      "['thanks', 'so', 'much', 'for', 'your', 'input', ',', 'and', 'for', 'giving', 'us', 'a', 'chance', '!', 'we', 'do', 'have', 'user', 'following', '(', 'and', 'blocking', '!', ')', 'as', 'well', 'as', 'more', 'notification', '##s', 'in', 'the', 'works', 'for', 'future', 'versions', '.', 'i', 'hope', 'you', \"'\", 'll', 'stick', 'around', 'and', 'let', 'us', 'know', 'what', 'you', 'think', '!', 'and', 'yes', ',', 'the', 'software', 'architect', ',', 'aj', '##a', ',', 'is', 'a', 'f', '##ou', '##ca', '##ult', 'fan', '.']\n",
      "['i', 'think', 'you', 'left', 'out', 'one', 'very', 'important', 'organization', 'who', 'help', 'the', 'mentally', 'ill', 'over', '18', '.', 'nam', '##i', 'mu', '##lt', '##no', '##mah', '.', 'they', 'help', 'people', 'with', 'mental', 'distress', 'find', 'within', 'or', 'without', 'nam', '##i', 'to', 'find', 'them', 'the', 'services', 'that', 'can', 'be', 'most', 'beneficial', 'to', 'them', '.', 'i', 'am', 'a', 'volunteer', 'for', 'nam', '##i', 'mu', '##lt', '##no', '##mah', 'in', 'their', 'connection', 'program', '.', 'it', 'is', 'a', 'walk', '-', 'in', 'group', 'to', 'people', '18', 'and', 'up', '.', 'no', 'matter', 'the', 'diagnosis', 'we', 'welcome', 'them', 'and', 'help', 'them', 'learn', 'new', 'coping', 'skills', 'and', 'develop', 'tools', 'to', 'further', 'help', 'them', 'learn', 'to', 'cope', 'from', 'week', 'to', 'week', '.', 'we', 'have', 'groups', 'all', 'over', 'mu', '##lt', '##no', '##mah', 'county', '.', 'by', 'going', 'to', 'http', ':', '/', '/', 'nam', '##i', '.', 'mu', '##lt', '##no', '##mah', '.', 'org', '/', '.', 'you', 'will', 'with', 'out', 'much', 'difficulty', 'find', 'the', 'list', 'of', 'connection', 'groups', 'and', 'their', 'times', 'and', 'locations', '.']\n",
      "['thanks', 'for', 'the', 'info', '!', 'one', 'other', 'thing', 'i', 'just', 'noticed', ':', 'in', 'the', 'email', 'i', 'got', 'about', 'your', 'reply', ',', 'the', 'link', 'to', 'view', 'it', 'didn', \"'\", 't', 'work', '(', 'at', 'least', 'not', 'from', 'mail', '.', 'app', 'on', 'os', 'x', ')', '.', 'looks', 'like', 'it', 'came', 'through', 'as', 'x', '-', 'web', '##do', '##c', ':', '/', '/', 'and', 'probably', 'doesn', \"'\", 't', 'know', 'how', 'to', 'deal', 'with', 'that', 'scheme', '.', 'really', 'love', 'what', 'you', \"'\", 're', 'doing', 'with', 'civil', 'comments', ',', 'though', '!', 'can', \"'\", 't', 'wait', 'to', 'see', 'it', 'on', 'more', 'sites', '.', 'might', 'even', 'bring', 'back', 'comments', 'on', 'my', 'personal', 'site', 'once', 'it', \"'\", 's', 'available', '!']\n",
      "['interesting', 'idea', '.', 'i', 'tend', 'to', 'use', 'content', 'block', '##ers', 'on', 'sites', 'that', 'i', 'know', 'don', \"'\", 't', 'moderate', 'comments', 'very', 'well', '.', 'if', 'they', 'adopted', 'a', 'system', 'like', 'this', 'i', 'might', 'stop', 'doing', 'that', '.']\n",
      "['this', 'was', 'quite', 'a', 'comprehensive', 'list', '.', 'good', '##y', 'for', 'the', 'writers', 'and', 'the', 'people', 'that', 'researched', 'for', 'this', 'guide', '.']\n",
      "['ryan', 'bun', '##dy', 'seems', 'like', 'a', 'nice', ',', 'responsible', 'human', 'being', 'who', 'has', 'been', 'sold', 'a', 'bill', 'of', 'goods', 'by', 'his', 'intellectual', '##ly', 'dom', '##ine', '##ering', 'brother', ',', 'who', 'he', 'idol', '##izes', '.', 'am', '##mon', 'has', 'a', 'bunch', 'of', 'other', 'similarly', 'situated', 'nut', '##ters', 'following', 'him', 'as', 'well', '.', 'where', '?', 'no', 'one', 'quite', 'knows', '.', 'and', ',', 'unless', 'you', 'live', 'in', 'burns', 'no', 'one', 'cares', '.', 'personally', ',', 'i', 'am', 'glad', 'these', 'bearded', ',', 'cam', '##mo', 'wearing', ',', 'narrowly', 'educated', ',', 'nu', '##isance', '##s', '.', '.', '.', '.', 'are', 'there', 'and', 'not', 'here', '.', 'traffic', 'is', 'bad', 'enough', '.', 'no', 'reason', 'to', 'make', 'it', 'worse', 'with', 'a', 'constitutional', 'page', '##nt', 'play', 'in', 'the', 'federal', 'building', 'in', 'downtown', 'pd', '##x', '.', 'and', ',', 'rep', '##ulsive', 'as', 'their', 'cam', '##mo', 'costumes', 'are', '(', 'all', 'available', 'at', 'cab', '##ela', \"'\", 's', 'and', 'andy', 'and', 'ba', '##x', ')', 'with', 'their', 'brand', '##ishing', 'weapons', 'it', \"'\", 's', 'a', 'very', 'immature', 'male', 'form', 'of', 'exhibition', '##ism', '.', '.', '.', '.', 'cowboys', 'and', 'indians', 'for', 'middle', 'aged', 'men', '.']\n",
      "['all', 'the', 'framed', 'boxes', 'must', 'take', 'up', 'extra', 'code', 'and', 'bandwidth', 'usage', 'to', 'send', 'all', 'the', 'extra', 'code', 'to', 'our', 'browser', '##s', '.', '.', 'then', 'there', 'is', 'all', 'the', '\"', '2', 'more', 'replies', '\"', 'buttons', 'to', 'click', 'on', '-', 'that', 'is', 'amazingly', 'annoying', '-', 'i', 'don', \"'\", 't', 'want', 'to', 'have', 'to', 'click', 'on', 'half', 'a', 'dozen', '\"', 'more', 'replies', '\"', 'buttons', 'to', 'see', 'what', 'is', 'being', 'said', '.', 'and', 'really', ',', 'you', 'have', 'to', 'vote', 'on', '3', 'other', 'replies', '?', 'what', 'percentage', 'of', 'your', 'users', 'wait', 'more', 'than', '1', '/', '2', 'second', 'before', 'randomly', 'clicking', 'on', 'a', 'response', '?', 'oh', 'well', ',', 'i', 'dig', '##ress', '.']\n",
      "['ah', ',', 'so', 'part', 'of', 'the', '\"', 'back', 'end', '\"', 'and', '\"', 'algorithms', '\"', '-', 'automatic', 'comment', 'rejection', 'if', 'you', 'don', \"'\", 't', 'vote', 'on', 'the', '3', 'random', 'comments', 'in', 'a', 'way', 'that', 'is', 'conform', '##ing', 'enough', 'to', 'the', 'way', 'other', 'users', 'vote', '-', 'or', 'if', 'you', 'vote', 'too', 'fast', ',', 'as', 'i', 'assumed', 'many', 'would', 'do', '-', 'just', 'clicking', 'a', 'random', 'button', 'too', 'quickly', 'means', 'that', 'you', \"'\", 're', 'unwilling', 'to', '\"', 'participate', '\"', '-', 'you', 'just', 'want', 'to', '\"', 'comment', '\"', 'which', 'doesn', \"'\", 't', 'ensure', 'a', '\"', 'civil', '\"', 'community', 'of', 'comment', '##ers', ':', 'screen', 'grab', 'from', 'a', 'rejected', 'comment', ':', 'i', '##5', '##gu', '##y', '3', 'hours', 'ago', 'rejected', 'personally', ',', 'i', 'already', 'don', '’', 't', 'have', 'the', 'time', 'or', 'energy', 'to', 'actually', 'read', 'the', 'stuff', 'they', 'ask', 'me', 'to', 'vote', 'on', '.', 'i', '’', 'll', 'just', 'randomly', 'click', 'on', 'yes', 'sort', '##a', 'or', 'no', 'to', 'make', 'the', 'buttons', 'go', 'away', '.', 'problems', 'were', 'detected', 'in', 'the', 'ratings', 'you', 'left', 'for', 'your', 'peers', '.']\n",
      "['to', 'anyone', 'reading', 'this', 'article', '.', 'that', \"'\", 's', 'me', 'and', 'my', 'friends', 'in', 'this', 'picture', '.', 'i', 'would', 'like', 'to', 'point', 'out', 'this', '\"', 'journalist', '\"', 'asked', 'us', 'zero', 'questions', '.', 'she', 'just', 'snapped', 'our', 'picture', 'and', 'left', '.', 'and', 'then', 'writes', 'an', 'article', 'trash', '##ing', 'us', ',', 'with', 'no', 'background', '?', 'that', \"'\", 's', 'some', 'real', 'class', 'a', 'journalism', '.', 'ki', '##gur', '##mi', 'run', 'by', 'sa', '##za', '##c', 'is', 'a', 'european', 'company', '.', 'and', 'last', 'time', 'i', 'checked', 'a', 'on', '##zie', 'of', 'a', 'che', '##eta', '##h', 'bought', 'at', 'target', 'is', 'fine', 'but', 'suddenly', 'i', \"'\", 'm', 'wearing', 'one', 'bought', 'online', 'and', 'i', \"'\", 'm', 'app', '##rop', '##iating', 'a', 'whole', 'country', '?', 'and', 'if', 'that', 'wasn', \"'\", 't', 'bad', 'enough', 'the', 'whole', 'second', 'half', 'is', 'trash', '##ing', 'fur', '##ries', '?', 'maybe', 'next', 'time', 'you', 'should', 'think', 'before', 'writing', 'an', 'article', 'ant', '##ago', '##ni', '##zing', 'teenagers', 'trying', 'to', 'do', 'their', 'christmas', 'tradition', 'of', 'getting', 'pictures', 'with', 'santa', '.', '.', '.']\n",
      "['thanks', ',', 'david', '!', 'and', 'yes', ',', 'that', \"'\", 's', 'a', 'known', 'issue', ',', 'new', 'to', 'installing', 'on', 'w', '##w', '.', 'working', 'on', 'it', '!', ':', ')']\n",
      "['hey', 'i', '##5', '##gu', '##y', ',', 'that', \"'\", 's', 'a', 'good', 'point', 'about', '\"', 'more', 'replies', '\"', 'appearing', 'too', 'soon', 'in', 'the', 'thread', '.', 'what', 'do', 'you', 'think', 'about', 'changing', 'it', 'so', 'that', ',', 'say', ',', 'it', 'takes', 'four', 'comments', 'before', 'that', 'button', 'shows', 'up', '?']\n",
      "['they', \"'\", 're', 'providing', 'a', 'service', 'to', 'the', 'sites', 'they', \"'\", 're', 'on', ',', 'i', 'assume', 'those', 'sites', 'pay', 'for', 'that', 'service', '.']\n",
      "['let', 'me', 'some', 'up', 'the', 'heavy', 'vibe', '##rs', 'feelings', ':', 'go', 'back', 'to', 'california', '.']\n",
      "['i', 'thought', 'will', '##ame', '##tte', 'week', 'was', 'better', 'than', 'this', '.', 'using', 'weasel', 'word', '##ing', 'and', 'referring', 'to', 'a', 'vanity', 'fair', 'hit', 'piece', 'to', 'spread', 'a', 'mis', '##in', '##formed', 'view', 'what', 'fur', '##rier', '##s', 'are', '.', 'we', 'all', 'do', 'not', 'obsessed', 'about', 'and', 'or', 'dress', 'up', '.', 'only', '10', '%', '15', '%', 'fur', '##s', 'dress', 'up', 'in', 'costume', ';', 'you', 'find', 'a', 'great', 'ratio', 'of', 'costume', '##rs', '(', 'co', '##sp', '##lay', ')', 'at', 'ku', '##mori', '##con', 'and', 'new', 'con', 'than', 'a', 'fur', 'con', '.', 'we', 'fur', 'have', 'many', 'different', 'and', 'dare', 'say', 'family', 'friendly', 'safe', 'for', 'work', 'interest', 'including', 'art', ',', 'role', 'play', 'and', 'literature', '.', 'in', 'fact', 'looking', 'at', 'the', 'lo', '##yd', 'center', 'piece', ',', 'the', 'pictures', 'could', 'been', 'take', 'around', 'january', '2', '-', '3', '.', 'we', 'had', 'a', 'furry', 'meet', 'up', 'lo', '##yd', \"'\", 's', 'center', 'and', 'the', '\"', 'reporter', '\"', 'could', 'had', 'easily', 'missed', 'us', '.']\n",
      "['one', 'more', 'drink', 'related', 'item', 'you', 'missed', 'ipa', '(', 'that', 'is', 'looking', 'at', 'my', 'grocery', 'store', 'beer', 'cooler', ')', '.', 'i', 'like', 'a', 'good', 'ipa', 'but', 'there', 'is', 'more', 'to', 'beer', 'than', 'ipa', '.']\n",
      "['tuesday', 'jan', '.', '13', ',', 'members', 'of', 'this', 'soc', '##alle', '##d', \"'\", 'militia', \"'\", 'traveled', 'to', 'john', 'day', ',', 'or', 'to', 'try', 'to', 'enlist', 'the', 'she', '##ri', '##f', 'there', 'to', 'come', 'to', 'mal', '##he', '##ur', 'and', 'support', 'them', '.', 'he', 'refused', 'to', 'go', 'without', 'the', 'approval', 'of', 'the', 'local', 'sheriff', 'in', 'burns', ',', 'dave', 'ward', '.', 'sheriff', 'ward', 'said', 'he', 'only', 'wanted', 'the', 'john', 'day', 'sheriff', 'to', 'come', 'to', 'burns', 'if', 'he', 'would', 'be', 'willing', 'to', \"'\", 'shame', 'and', 'hum', '##ilia', '##te', \"'\", 'the', 'tres', '##pass', '##ers', 'into', 'leaving', '.', 'the', 'bun', '##dy', 'bunch', 'are', 'armed', 'terrorist', 'idiots', 'who', 'are', 'attempting', 'to', 'poison', 'my', 'state', 'with', 'their', 'toxic', 'and', 'di', '##vis', '##ive', 'brand', 'of', \"'\", 'politics', \"'\", '.', 'they', 'need', 'to', 'be', 'arrested', 'and', 'prosecuted', '.', 'rallies', 'to', 'support', 'public', 'lands', 'and', 'the', 'mal', '##he', '##ur', 'refuge', 'are', 'being', 'held', 'in', 'pd', '##x', ',', 'eugene', ',', 'and', 'other', 'cities', 'across', 'or', '.', 'next', 'tuesday', 'jan', '.', '19', ':', 'check', 'out', '#', 'support', '##mal', '##he', '##ur', '.', 'and', 'yes', ',', 'i', 'have', 'lived', 'in', 'both', 'rural', 'or', '(', '25', 'years', ')', 'and', 'urban', 'or', '.']\n",
      "['and', 'left', 'wing', 'trolls', '!', 'just', 'because', 'someone', 'agrees', 'with', 'you', 'politically', 'doesn', \"'\", 't', 'mean', 'they', \"'\", 're', 'doing', 'so', 'civil', '##ly', '!']\n",
      "['tuesday', 'jan', '.', '13', ',', 'members', 'of', 'this', 'soc', '##alle', '##d', \"'\", 'militia', \"'\", 'traveled', 'to', 'john', 'day', ',', 'or', 'to', 'try', 'to', 'enlist', 'the', 'she', '##ri', '##f', 'there', 'to', 'come', 'to', 'mal', '##he', '##ur', 'and', 'support', 'them', '.', 'he', 'refused', 'to', 'go', 'without', 'the', 'approval', 'of', 'the', 'local', 'sheriff', 'in', 'burns', ',', 'dave', 'ward', '.', 'sheriff', 'ward', 'said', 'he', 'only', 'wanted', 'the', 'john', 'day', 'sheriff', 'to', 'come', 'to', 'burns', 'if', 'he', 'would', 'be', 'willing', 'to', \"'\", 'shame', 'and', 'hum', '##ilia', '##te', \"'\", 'the', 'tres', '##pass', '##ers', 'into', 'leaving', '.', 'the', 'bun', '##dy', 'bunch', 'are', 'armed', 'terrorist', 'idiots', 'who', 'are', 'attempting', 'to', 'poison', 'my', 'state', 'with', 'their', 'toxic', 'and', 'di', '##vis', '##ive', 'brand', 'of', \"'\", 'politics', \"'\", '.', 'they', 'need', 'to', 'be', 'arrested', 'and', 'prosecuted', '.', 'rallies', 'to', 'support', 'public', 'lands', 'and', 'the', 'mal', '##he', '##ur', 'refuge', 'are', 'being', 'held', 'in', 'pd', '##x', ',', 'eugene', ',', 'and', 'other', 'cities', 'across', 'or', '.', 'next', 'tuesday', 'jan', '.', '19', ':', 'check', 'out', '#', 'support', '##mal', '##he', '##ur', '.', 'and', 'yes', ',', 'i', 'have', 'lived', 'in', 'both', 'rural', 'or', '(', '25', 'years', ')', 'and', 'urban', 'or', '.']\n",
      "['kay', \"'\", 's', 'is', 'one', 'of', 'the', 'best', 'bars', 'in', 'the', 'city', ',', 'but', 'you', 'don', \"'\", 't', 'have', 'a', 'section', 'for', 'the', 'neighborhood', '.']\n",
      "['did', 'you', 'even', 'go', 'on', 'hawthorne', ',', 'or', 'only', 'ye', '##lp', 'it', '?', 'what', 'is', 'this', '?', 'the', 'only', 'thing', 'to', 'do', 'is', 'go', 'to', 'float', 'on', '?', 'seriously', '?', 'i', 'am', 'very', 'sorry', 'for', 'you', '.']\n",
      "['has', 'anyone', 'in', 'lds', 'leadership', 'expressed', 'their', 'denial', 'of', 'support', 'for', 'the', 'terrorists', 'or', 'called', 'them', 'out', 'on', 'the', 'se', '##dit', '##ious', ',', 'illegal', 'actions', '?', '?', '?', '?', 'no', '!', 'so', 'could', 'the', 'cult', 'be', 'supporting', 'that', 'action', 'of', 'the', 'bun', '##dy', 'clan', 'and', 'their', 'minions', '?']\n",
      "['i', 'think', 'wwe', '##ek', 'is', 'in', 'a', 'strange', 'spot', 'with', 'that', '.', 'their', 'comments', 'can', 'be', 'active', ',', 'but', 'they', \"'\", 're', 'nowhere', 'near', 'as', 'busy', 'as', 'say', ',', 'oregon', '##li', '##ve', '.', 'forcing', 'the', 'writers', 'or', 'other', 'staff', 'to', 'monitor', 'comments', 'might', 'be', 'over', '##kill', '.', 'i', 'definitely', 'get', 'a', 'newspaper', 'not', 'wanting', 'outsiders', 'handling', 'that', ',', 'for', 'fear', 'of', 'confusion', 'and', 'accusations', 'of', 'bias', '.', 'it', 'seems', 'like', 'every', 'oregon', '##li', '##ve', 'comment', 'thread', 'has', 'accusations', 'of', 'bias', 'due', 'to', 'deleted', 'posts', 'despite', 'repeated', 'insistence', 'that', 'comment', 'mode', '##ration', 'is', 'not', 'handled', 'in', '-', 'house', '.', 'i', \"'\", 've', 'also', 'seen', 'several', 'communities', 'where', 'conform', '##ing', 'to', 'the', 'political', 'view', 'is', 'more', 'of', 'a', 'metric', 'for', 'des', '##ira', '##bility', 'than', 'anything', 'to', 'do', 'with', 'tone', 'or', 'actual', 'content', ',', 'and', 'mod', '##s', 'reinforced', 'that', '.', 'the', 'results', 'of', 'volunteers', 'may', '.', '.', '.', '.', 'vary', ',', 'to', 'be', 'polite', '.']\n",
      "['i', 'saw', '@', 'christ', '##a', '_', 'm', 'mention', 'this', 'a', 'little', 'below', ',', 'but', 'i', \"'\", 'm', 'curious', 'how', 'the', 'system', 'combat', '##s', 'the', 'echo', 'chamber', 'effect', ',', 'especially', 'on', 'contentious', 'issues', '?', 'i', 'can', 'imagine', 'many', 'stories', 'where', 'opinions', 'which', 'run', 'against', 'the', '(', 'portland', ')', 'mainstream', 'are', 'viewed', 'as', 'inherently', 'un', '##ci', '##vil', ',', 'such', 'as', 'supporting', 'trump', \"'\", 's', 'position', 'on', '.', '.', '.', 'well', 'pretty', 'much', 'anyone', 'that', 'isn', \"'\", 't', 'white', ',', 'or', 'say', 'supporting', 'the', 'klein', '##s', 'in', 'the', 'sweet', 'cakes', 'by', 'melissa', 'saga', '.', 'how', 'do', 'you', 'convince', 'people', 'that', 'an', 'opinion', 'which', 'is', 'to', 'some', 'degree', 'derived', 'from', 'some', 'form', 'of', 'prejudice', 'is', 'still', '\"', 'civil', '\"', 'and', 'des', '##erving', 'of', 'at', 'least', 'being', 'heard', '?']\n",
      "['get', 'rid', 'of', 'the', '\"', 'more', 'messages', '\"', '.', 'especially', 'within', 'a', 'thread', '.']\n",
      "['if', 'they', 'offered', 'a', 'g', '##lu', '##ten', 'free', 'crust', 'we', 'would', 'be', 'impressed', ',', 'but', 'when', 'we', 'asked', 'about', 'it', ',', 'they', 'were', 'pretty', 'dismiss', '##ive', 'of', 'the', 'idea', '.', 'thanks', 'papa', 'murphy', \"'\", 's', 'down', 'the', 'street', 'and', 'pi', '##zzi', '##cat', '##o', 'in', 'hills', '##dale', 'for', 'g', '##f', 'options', '.', 'we', \"'\", 'll', 'stick', 'with', 'them', '.']\n",
      "['happy', 'to', 'see', 'that', 'the', 'folks', '\"', 'in', 'the', 'room', '\"', 'are', 'themselves', 'from', 'varying', 'backgrounds', '.', '.']\n",
      "['hopefully', 'there', 'will', 'be', 'enough', 'comment', '##ers', 'who', 'are', 'honestly', 'here', 'to', 'have', 'a', 'civil', 'discussion', 'to', 'allow', 'civil', 'comments', 'that', 'challenge', 'conventional', 'wisdom', '.', 'the', 'posts', 'that', 'challenge', 'conventional', 'wisdom', 'yet', 'aren', \"'\", 't', 'civil', 'won', \"'\", 't', 'hit', 'the', 'thread', ',', 'and', ',', 'sure', ',', 'some', 'folks', 'will', 'always', 'try', 'and', 'sc', '##am', 'the', 'system', 'by', 'not', 'allowing', 'comments', 'that', 'they', 'disagree', 'with', 'thru', ',', 'but', 'i', 'wouldn', \"'\", 't', 'be', 'surprised', 'if', 'many', 'of', 'the', 'folks', 'that', 'take', 'that', 'approach', 'when', 'reviewing', 'comments', 'are', 'the', 'same', 'ones', 'who', 'are', 'having', 'comments', 'denied', 'for', 'being', 'un', '##ci', '##vil', '.', 'if', 'that', \"'\", 's', 'the', 'case', 'it', 'may', 'be', 'somewhat', 'of', 'a', 'self', '-', 'correct', '##ing', 'problem', ',', 'where', 'they', 'become', 'bored', 'with', 'not', 'having', 'any', 'comments', 'post', 'and', 'go', 'elsewhere', '.', 'i', \"'\", 'm', 'just', 'spec', '##ulating', 'however', 'only', 'time', 'will', 'tell', '.', 'i', 'also', 'would', 'not', 'be', 'surprised', 'if', 'i', 'was', 'totally', 'off', 'base', 'on', 'all', 'of', 'this', '.']\n",
      "['nice', '.', ':', ')', 'although', 'it', \"'\", 's', 'a', 'shame', 'the', 'resolution', 'on', 'the', 'files', 'make', 'some', 'of', 'the', 'lettering', 'tough', 'to', 'read', '.', 'i', \"'\", 'm', 'not', 'sure', 'what', 'the', 'last', 'word', 'in', 'the', 'lower', 'right', 'strip', 'is', '.', 'i', 'like', 'the', 'design', 'of', 'the', '2000s', 'guy', 'in', 'the', 'third', 'strip', '.', 'that', \"'\", 's', 'a', 'guy', 'who', 'grew', 'up', 'watching', 'kevin', 'smith', 'movies', '.']\n",
      "['if', 'it', 'is', 'effective', 'in', 'slowing', 'us', 'down', 'in', 'order', 'to', 'reflect', 'upon', 'how', 'we', 'engage', 'with', 'others', 'and', 'draws', 'attention', 'to', 'the', 'humanity', 'of', 'each', 'recipient', ',', 'then', 'i', 'approve', '.']\n",
      "['hi', 'david', ',', 'we', 'did', 'consider', 'all', 'of', 'these', 'possibilities', 'when', 'building', 'our', 'system', '!', 'in', 'fact', ',', 'we', 'assume', 'people', 'will', 'try', 'to', 'game', 'it', ';', 'that', \"'\", 's', 'why', 'we', 'have', 'a', 'lot', 'going', 'on', 'behind', 'the', 'scenes', 'algorithm', '##ically', '.', 'the', 'comment', '##er', '-', 'facing', 'part', 'of', 'the', 'app', 'is', 'very', 'straightforward', ',', 'but', 'there', 'are', 'a', 'lot', 'of', 'checks', 'and', 'balance', '##s', 'on', 'the', 'back', '##end', 'to', 'prevent', 'coordinated', 'attacks', 'and', 'also', 'to', 'keep', 'comments', 'sections', 'from', 'becoming', 'echo', 'chambers', '.', 'banning', 'insulting', 'words', 'isn', \"'\", 't', 'enough', ',', 'unfortunately', ';', 'people', 'will', 'always', 'be', 'smarter', 'than', 'word', 'filters', ',', 'even', 'if', 'the', 'algorithm', 'tries', 'to', 'take', 'context', 'into', 'account', '.', 'we', 'do', 'have', 'a', 'backup', 'algorithm', 'for', 'low', '-', 'volume', 'situations', 'that', 'basically', 'does', 'this', '(', 'plus', 'a', 'few', 'other', 'things', ')', ',', 'but', 'it', \"'\", 's', 'not', 'as', 'effective', 'as', 'human', 'reviewers', '.', 'i', 'hear', 'you', 'on', 'the', '\"', 'more', 'replies', '\"', 'button', ';', 'i', 'don', \"'\", 't', 'think', 'we', \"'\", 'll', 'remove', 'it', 'entirely', ',', 'but', 'i', 'agree', 'it', \"'\", 's', 'appearing', 'too', 'often', ',', 'after', 'too', 'few', 'comments', '.', 'we', \"'\", 'll', 'be', 'pushing', 'updates', 'very', 'soon', '!']\n",
      "['but', '*', 'i', '*', 'want', 'to', 'be', 'mr', '##w', '##his', '##kers', '!']\n",
      "['i', \"'\", 'm', 'so', 'glad', 'portland', 'development', 'commission', ',', 'kate', 'brown', ',', 'and', 'business', 'oregon', 'are', 'taking', 'direct', 'action', 'to', 'correct', 'the', 'gap', 'in', 'participation', '!', 'i', 'think', 'el', '##eva', '##te', 'is', 'going', 'to', 'do', 'great', 'things', 'over', 'the', 'next', 'five', 'years', '.', 'the', 'portland', 'startup', 'scene', 'has', 'the', 'chance', 'to', 'set', 'itself', 'apart', 'here', ',', 'and', 'this', 'is', 'definitely', 'a', 'step', 'in', 'the', 'right', 'direction', '!', 'very', 'cool', '.']\n",
      "['sorry', ',', 'rod', ',', 'you', \"'\", 'll', 'have', 'to', 'be', 'mr', '_', 'w', '##his', '##kers', 'or', 'mr', '##w', '##his', '##kers', '##1', '.', 'gotta', 'act', 'fast', 'on', 'those', 'user', '##name', '##s', '!', 'cat', 'enthusiast', 'digest', 'is', 'no', 'place', 'to', 'dil', '##ly', '-', 'dal', '##ly', '.']\n"
     ]
    }
   ],
   "source": [
    "for i in range(100):\n",
    "    print(data[i][\"comment_text\"])"
   ]
  },
  {
   "cell_type": "code",
   "execution_count": 24,
   "metadata": {
    "ExecuteTime": {
     "end_time": "2019-05-01T15:18:44.315239Z",
     "start_time": "2019-05-01T15:18:44.200329Z"
    }
   },
   "outputs": [
    {
     "name": "stdout",
     "output_type": "stream",
     "text": [
      "230.0\n"
     ]
    }
   ],
   "source": [
    "import numpy as np\n",
    "print(np.percentile(lens, 99))"
   ]
  },
  {
   "cell_type": "code",
   "execution_count": null,
   "metadata": {},
   "outputs": [],
   "source": []
  }
 ],
 "metadata": {
  "kernelspec": {
   "display_name": "Python 3",
   "language": "python",
   "name": "python3"
  },
  "language_info": {
   "codemirror_mode": {
    "name": "ipython",
    "version": 3
   },
   "file_extension": ".py",
   "mimetype": "text/x-python",
   "name": "python",
   "nbconvert_exporter": "python",
   "pygments_lexer": "ipython3",
   "version": "3.7.3"
  }
 },
 "nbformat": 4,
 "nbformat_minor": 2
}
